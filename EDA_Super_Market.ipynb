{
 "cells": [
  {
   "cell_type": "code",
   "execution_count": 1,
   "id": "877a4466",
   "metadata": {},
   "outputs": [],
   "source": [
    "# Importing the required libraries\n",
    "import pandas as pd\n",
    "import numpy as np\n",
    "import matplotlib.pyplot as plt\n",
    "%matplotlib inline\n",
    "import seaborn as sns\n",
    "import pingouin as pg"
   ]
  },
  {
   "cell_type": "code",
   "execution_count": 2,
   "id": "8733b7b3",
   "metadata": {},
   "outputs": [
    {
     "data": {
      "text/html": [
       "<div>\n",
       "<style scoped>\n",
       "    .dataframe tbody tr th:only-of-type {\n",
       "        vertical-align: middle;\n",
       "    }\n",
       "\n",
       "    .dataframe tbody tr th {\n",
       "        vertical-align: top;\n",
       "    }\n",
       "\n",
       "    .dataframe thead th {\n",
       "        text-align: right;\n",
       "    }\n",
       "</style>\n",
       "<table border=\"1\" class=\"dataframe\">\n",
       "  <thead>\n",
       "    <tr style=\"text-align: right;\">\n",
       "      <th></th>\n",
       "      <th>Invoice ID</th>\n",
       "      <th>Branch</th>\n",
       "      <th>City</th>\n",
       "      <th>Customer type</th>\n",
       "      <th>Gender</th>\n",
       "      <th>Product line</th>\n",
       "      <th>Unit price</th>\n",
       "      <th>Quantity</th>\n",
       "      <th>Tax 5%</th>\n",
       "      <th>Total</th>\n",
       "      <th>Date</th>\n",
       "      <th>Time</th>\n",
       "      <th>Payment</th>\n",
       "      <th>cogs</th>\n",
       "      <th>gross margin percentage</th>\n",
       "      <th>gross income</th>\n",
       "      <th>Rating</th>\n",
       "    </tr>\n",
       "  </thead>\n",
       "  <tbody>\n",
       "    <tr>\n",
       "      <th>0</th>\n",
       "      <td>750-67-8428</td>\n",
       "      <td>A</td>\n",
       "      <td>Yangon</td>\n",
       "      <td>Member</td>\n",
       "      <td>Female</td>\n",
       "      <td>Health and beauty</td>\n",
       "      <td>74.69</td>\n",
       "      <td>7</td>\n",
       "      <td>26.1415</td>\n",
       "      <td>548.9715</td>\n",
       "      <td>1/5/2019</td>\n",
       "      <td>13:08</td>\n",
       "      <td>Ewallet</td>\n",
       "      <td>522.83</td>\n",
       "      <td>4.761905</td>\n",
       "      <td>26.1415</td>\n",
       "      <td>9.1</td>\n",
       "    </tr>\n",
       "    <tr>\n",
       "      <th>1</th>\n",
       "      <td>226-31-3081</td>\n",
       "      <td>C</td>\n",
       "      <td>Naypyitaw</td>\n",
       "      <td>Normal</td>\n",
       "      <td>Female</td>\n",
       "      <td>Electronic accessories</td>\n",
       "      <td>15.28</td>\n",
       "      <td>5</td>\n",
       "      <td>3.8200</td>\n",
       "      <td>80.2200</td>\n",
       "      <td>3/8/2019</td>\n",
       "      <td>10:29</td>\n",
       "      <td>Cash</td>\n",
       "      <td>76.40</td>\n",
       "      <td>4.761905</td>\n",
       "      <td>3.8200</td>\n",
       "      <td>9.6</td>\n",
       "    </tr>\n",
       "    <tr>\n",
       "      <th>2</th>\n",
       "      <td>631-41-3108</td>\n",
       "      <td>A</td>\n",
       "      <td>Yangon</td>\n",
       "      <td>Normal</td>\n",
       "      <td>Male</td>\n",
       "      <td>Home and lifestyle</td>\n",
       "      <td>46.33</td>\n",
       "      <td>7</td>\n",
       "      <td>16.2155</td>\n",
       "      <td>340.5255</td>\n",
       "      <td>3/3/2019</td>\n",
       "      <td>13:23</td>\n",
       "      <td>Credit card</td>\n",
       "      <td>324.31</td>\n",
       "      <td>4.761905</td>\n",
       "      <td>16.2155</td>\n",
       "      <td>7.4</td>\n",
       "    </tr>\n",
       "    <tr>\n",
       "      <th>3</th>\n",
       "      <td>123-19-1176</td>\n",
       "      <td>A</td>\n",
       "      <td>Yangon</td>\n",
       "      <td>Member</td>\n",
       "      <td>Male</td>\n",
       "      <td>Health and beauty</td>\n",
       "      <td>58.22</td>\n",
       "      <td>8</td>\n",
       "      <td>23.2880</td>\n",
       "      <td>489.0480</td>\n",
       "      <td>1/27/2019</td>\n",
       "      <td>20:33</td>\n",
       "      <td>Ewallet</td>\n",
       "      <td>465.76</td>\n",
       "      <td>4.761905</td>\n",
       "      <td>23.2880</td>\n",
       "      <td>8.4</td>\n",
       "    </tr>\n",
       "    <tr>\n",
       "      <th>4</th>\n",
       "      <td>373-73-7910</td>\n",
       "      <td>A</td>\n",
       "      <td>Yangon</td>\n",
       "      <td>Normal</td>\n",
       "      <td>Male</td>\n",
       "      <td>Sports and travel</td>\n",
       "      <td>86.31</td>\n",
       "      <td>7</td>\n",
       "      <td>30.2085</td>\n",
       "      <td>634.3785</td>\n",
       "      <td>2/8/2019</td>\n",
       "      <td>10:37</td>\n",
       "      <td>Ewallet</td>\n",
       "      <td>604.17</td>\n",
       "      <td>4.761905</td>\n",
       "      <td>30.2085</td>\n",
       "      <td>5.3</td>\n",
       "    </tr>\n",
       "    <tr>\n",
       "      <th>...</th>\n",
       "      <td>...</td>\n",
       "      <td>...</td>\n",
       "      <td>...</td>\n",
       "      <td>...</td>\n",
       "      <td>...</td>\n",
       "      <td>...</td>\n",
       "      <td>...</td>\n",
       "      <td>...</td>\n",
       "      <td>...</td>\n",
       "      <td>...</td>\n",
       "      <td>...</td>\n",
       "      <td>...</td>\n",
       "      <td>...</td>\n",
       "      <td>...</td>\n",
       "      <td>...</td>\n",
       "      <td>...</td>\n",
       "      <td>...</td>\n",
       "    </tr>\n",
       "    <tr>\n",
       "      <th>995</th>\n",
       "      <td>233-67-5758</td>\n",
       "      <td>C</td>\n",
       "      <td>Naypyitaw</td>\n",
       "      <td>Normal</td>\n",
       "      <td>Male</td>\n",
       "      <td>Health and beauty</td>\n",
       "      <td>40.35</td>\n",
       "      <td>1</td>\n",
       "      <td>2.0175</td>\n",
       "      <td>42.3675</td>\n",
       "      <td>1/29/2019</td>\n",
       "      <td>13:46</td>\n",
       "      <td>Ewallet</td>\n",
       "      <td>40.35</td>\n",
       "      <td>4.761905</td>\n",
       "      <td>2.0175</td>\n",
       "      <td>6.2</td>\n",
       "    </tr>\n",
       "    <tr>\n",
       "      <th>996</th>\n",
       "      <td>303-96-2227</td>\n",
       "      <td>B</td>\n",
       "      <td>Mandalay</td>\n",
       "      <td>Normal</td>\n",
       "      <td>Female</td>\n",
       "      <td>Home and lifestyle</td>\n",
       "      <td>97.38</td>\n",
       "      <td>10</td>\n",
       "      <td>48.6900</td>\n",
       "      <td>1022.4900</td>\n",
       "      <td>3/2/2019</td>\n",
       "      <td>17:16</td>\n",
       "      <td>Ewallet</td>\n",
       "      <td>973.80</td>\n",
       "      <td>4.761905</td>\n",
       "      <td>48.6900</td>\n",
       "      <td>4.4</td>\n",
       "    </tr>\n",
       "    <tr>\n",
       "      <th>997</th>\n",
       "      <td>727-02-1313</td>\n",
       "      <td>A</td>\n",
       "      <td>Yangon</td>\n",
       "      <td>Member</td>\n",
       "      <td>Male</td>\n",
       "      <td>Food and beverages</td>\n",
       "      <td>31.84</td>\n",
       "      <td>1</td>\n",
       "      <td>1.5920</td>\n",
       "      <td>33.4320</td>\n",
       "      <td>2/9/2019</td>\n",
       "      <td>13:22</td>\n",
       "      <td>Cash</td>\n",
       "      <td>31.84</td>\n",
       "      <td>4.761905</td>\n",
       "      <td>1.5920</td>\n",
       "      <td>7.7</td>\n",
       "    </tr>\n",
       "    <tr>\n",
       "      <th>998</th>\n",
       "      <td>347-56-2442</td>\n",
       "      <td>A</td>\n",
       "      <td>Yangon</td>\n",
       "      <td>Normal</td>\n",
       "      <td>Male</td>\n",
       "      <td>Home and lifestyle</td>\n",
       "      <td>65.82</td>\n",
       "      <td>1</td>\n",
       "      <td>3.2910</td>\n",
       "      <td>69.1110</td>\n",
       "      <td>2/22/2019</td>\n",
       "      <td>15:33</td>\n",
       "      <td>Cash</td>\n",
       "      <td>65.82</td>\n",
       "      <td>4.761905</td>\n",
       "      <td>3.2910</td>\n",
       "      <td>4.1</td>\n",
       "    </tr>\n",
       "    <tr>\n",
       "      <th>999</th>\n",
       "      <td>849-09-3807</td>\n",
       "      <td>A</td>\n",
       "      <td>Yangon</td>\n",
       "      <td>Member</td>\n",
       "      <td>Female</td>\n",
       "      <td>Fashion accessories</td>\n",
       "      <td>88.34</td>\n",
       "      <td>7</td>\n",
       "      <td>30.9190</td>\n",
       "      <td>649.2990</td>\n",
       "      <td>2/18/2019</td>\n",
       "      <td>13:28</td>\n",
       "      <td>Cash</td>\n",
       "      <td>618.38</td>\n",
       "      <td>4.761905</td>\n",
       "      <td>30.9190</td>\n",
       "      <td>6.6</td>\n",
       "    </tr>\n",
       "  </tbody>\n",
       "</table>\n",
       "<p>1000 rows × 17 columns</p>\n",
       "</div>"
      ],
      "text/plain": [
       "      Invoice ID Branch       City Customer type  Gender  \\\n",
       "0    750-67-8428      A     Yangon        Member  Female   \n",
       "1    226-31-3081      C  Naypyitaw        Normal  Female   \n",
       "2    631-41-3108      A     Yangon        Normal    Male   \n",
       "3    123-19-1176      A     Yangon        Member    Male   \n",
       "4    373-73-7910      A     Yangon        Normal    Male   \n",
       "..           ...    ...        ...           ...     ...   \n",
       "995  233-67-5758      C  Naypyitaw        Normal    Male   \n",
       "996  303-96-2227      B   Mandalay        Normal  Female   \n",
       "997  727-02-1313      A     Yangon        Member    Male   \n",
       "998  347-56-2442      A     Yangon        Normal    Male   \n",
       "999  849-09-3807      A     Yangon        Member  Female   \n",
       "\n",
       "               Product line  Unit price  Quantity   Tax 5%      Total  \\\n",
       "0         Health and beauty       74.69         7  26.1415   548.9715   \n",
       "1    Electronic accessories       15.28         5   3.8200    80.2200   \n",
       "2        Home and lifestyle       46.33         7  16.2155   340.5255   \n",
       "3         Health and beauty       58.22         8  23.2880   489.0480   \n",
       "4         Sports and travel       86.31         7  30.2085   634.3785   \n",
       "..                      ...         ...       ...      ...        ...   \n",
       "995       Health and beauty       40.35         1   2.0175    42.3675   \n",
       "996      Home and lifestyle       97.38        10  48.6900  1022.4900   \n",
       "997      Food and beverages       31.84         1   1.5920    33.4320   \n",
       "998      Home and lifestyle       65.82         1   3.2910    69.1110   \n",
       "999     Fashion accessories       88.34         7  30.9190   649.2990   \n",
       "\n",
       "          Date   Time      Payment    cogs  gross margin percentage  \\\n",
       "0     1/5/2019  13:08      Ewallet  522.83                 4.761905   \n",
       "1     3/8/2019  10:29         Cash   76.40                 4.761905   \n",
       "2     3/3/2019  13:23  Credit card  324.31                 4.761905   \n",
       "3    1/27/2019  20:33      Ewallet  465.76                 4.761905   \n",
       "4     2/8/2019  10:37      Ewallet  604.17                 4.761905   \n",
       "..         ...    ...          ...     ...                      ...   \n",
       "995  1/29/2019  13:46      Ewallet   40.35                 4.761905   \n",
       "996   3/2/2019  17:16      Ewallet  973.80                 4.761905   \n",
       "997   2/9/2019  13:22         Cash   31.84                 4.761905   \n",
       "998  2/22/2019  15:33         Cash   65.82                 4.761905   \n",
       "999  2/18/2019  13:28         Cash  618.38                 4.761905   \n",
       "\n",
       "     gross income  Rating  \n",
       "0         26.1415     9.1  \n",
       "1          3.8200     9.6  \n",
       "2         16.2155     7.4  \n",
       "3         23.2880     8.4  \n",
       "4         30.2085     5.3  \n",
       "..            ...     ...  \n",
       "995        2.0175     6.2  \n",
       "996       48.6900     4.4  \n",
       "997        1.5920     7.7  \n",
       "998        3.2910     4.1  \n",
       "999       30.9190     6.6  \n",
       "\n",
       "[1000 rows x 17 columns]"
      ]
     },
     "execution_count": 2,
     "metadata": {},
     "output_type": "execute_result"
    }
   ],
   "source": [
    "# Importing The dataset of supermarket sales\n",
    "\n",
    "sm = pd.read_csv(\"C:/Users/ADESH/OneDrive/Desktop/dataset/supermarket sales Sheet1.csv\")\n",
    "sm"
   ]
  },
  {
   "cell_type": "code",
   "execution_count": 3,
   "id": "c47d43bd",
   "metadata": {},
   "outputs": [
    {
     "data": {
      "text/plain": [
       "\"We import dataset and assigned as 'sm'\\n   we have 1000 rows and 17 columns\""
      ]
     },
     "execution_count": 3,
     "metadata": {},
     "output_type": "execute_result"
    }
   ],
   "source": [
    "'''We import dataset and assigned as 'sm'\n",
    "   we have 1000 rows and 17 columns'''"
   ]
  },
  {
   "cell_type": "code",
   "execution_count": 4,
   "id": "5e892f6b",
   "metadata": {},
   "outputs": [
    {
     "data": {
      "text/html": [
       "<div>\n",
       "<style scoped>\n",
       "    .dataframe tbody tr th:only-of-type {\n",
       "        vertical-align: middle;\n",
       "    }\n",
       "\n",
       "    .dataframe tbody tr th {\n",
       "        vertical-align: top;\n",
       "    }\n",
       "\n",
       "    .dataframe thead th {\n",
       "        text-align: right;\n",
       "    }\n",
       "</style>\n",
       "<table border=\"1\" class=\"dataframe\">\n",
       "  <thead>\n",
       "    <tr style=\"text-align: right;\">\n",
       "      <th></th>\n",
       "      <th>Invoice ID</th>\n",
       "      <th>Branch</th>\n",
       "      <th>City</th>\n",
       "      <th>Customer type</th>\n",
       "      <th>Gender</th>\n",
       "      <th>Product line</th>\n",
       "      <th>Unit price</th>\n",
       "      <th>Quantity</th>\n",
       "      <th>Tax 5%</th>\n",
       "      <th>Total</th>\n",
       "      <th>Date</th>\n",
       "      <th>Time</th>\n",
       "      <th>Payment</th>\n",
       "      <th>cogs</th>\n",
       "      <th>gross margin percentage</th>\n",
       "      <th>gross income</th>\n",
       "      <th>Rating</th>\n",
       "    </tr>\n",
       "  </thead>\n",
       "  <tbody>\n",
       "    <tr>\n",
       "      <th>count</th>\n",
       "      <td>1000</td>\n",
       "      <td>1000</td>\n",
       "      <td>1000</td>\n",
       "      <td>1000</td>\n",
       "      <td>1000</td>\n",
       "      <td>1000</td>\n",
       "      <td>1000.000000</td>\n",
       "      <td>1000.000000</td>\n",
       "      <td>1000.000000</td>\n",
       "      <td>1000.000000</td>\n",
       "      <td>1000</td>\n",
       "      <td>1000</td>\n",
       "      <td>1000</td>\n",
       "      <td>1000.00000</td>\n",
       "      <td>1.000000e+03</td>\n",
       "      <td>1000.000000</td>\n",
       "      <td>1000.00000</td>\n",
       "    </tr>\n",
       "    <tr>\n",
       "      <th>unique</th>\n",
       "      <td>1000</td>\n",
       "      <td>3</td>\n",
       "      <td>3</td>\n",
       "      <td>2</td>\n",
       "      <td>2</td>\n",
       "      <td>6</td>\n",
       "      <td>NaN</td>\n",
       "      <td>NaN</td>\n",
       "      <td>NaN</td>\n",
       "      <td>NaN</td>\n",
       "      <td>89</td>\n",
       "      <td>506</td>\n",
       "      <td>3</td>\n",
       "      <td>NaN</td>\n",
       "      <td>NaN</td>\n",
       "      <td>NaN</td>\n",
       "      <td>NaN</td>\n",
       "    </tr>\n",
       "    <tr>\n",
       "      <th>top</th>\n",
       "      <td>626-43-7888</td>\n",
       "      <td>A</td>\n",
       "      <td>Yangon</td>\n",
       "      <td>Member</td>\n",
       "      <td>Female</td>\n",
       "      <td>Fashion accessories</td>\n",
       "      <td>NaN</td>\n",
       "      <td>NaN</td>\n",
       "      <td>NaN</td>\n",
       "      <td>NaN</td>\n",
       "      <td>2/7/2019</td>\n",
       "      <td>19:48</td>\n",
       "      <td>Ewallet</td>\n",
       "      <td>NaN</td>\n",
       "      <td>NaN</td>\n",
       "      <td>NaN</td>\n",
       "      <td>NaN</td>\n",
       "    </tr>\n",
       "    <tr>\n",
       "      <th>freq</th>\n",
       "      <td>1</td>\n",
       "      <td>340</td>\n",
       "      <td>340</td>\n",
       "      <td>501</td>\n",
       "      <td>501</td>\n",
       "      <td>178</td>\n",
       "      <td>NaN</td>\n",
       "      <td>NaN</td>\n",
       "      <td>NaN</td>\n",
       "      <td>NaN</td>\n",
       "      <td>20</td>\n",
       "      <td>7</td>\n",
       "      <td>345</td>\n",
       "      <td>NaN</td>\n",
       "      <td>NaN</td>\n",
       "      <td>NaN</td>\n",
       "      <td>NaN</td>\n",
       "    </tr>\n",
       "    <tr>\n",
       "      <th>mean</th>\n",
       "      <td>NaN</td>\n",
       "      <td>NaN</td>\n",
       "      <td>NaN</td>\n",
       "      <td>NaN</td>\n",
       "      <td>NaN</td>\n",
       "      <td>NaN</td>\n",
       "      <td>55.672130</td>\n",
       "      <td>5.510000</td>\n",
       "      <td>15.379369</td>\n",
       "      <td>322.966749</td>\n",
       "      <td>NaN</td>\n",
       "      <td>NaN</td>\n",
       "      <td>NaN</td>\n",
       "      <td>307.58738</td>\n",
       "      <td>4.761905e+00</td>\n",
       "      <td>15.379369</td>\n",
       "      <td>6.97270</td>\n",
       "    </tr>\n",
       "    <tr>\n",
       "      <th>std</th>\n",
       "      <td>NaN</td>\n",
       "      <td>NaN</td>\n",
       "      <td>NaN</td>\n",
       "      <td>NaN</td>\n",
       "      <td>NaN</td>\n",
       "      <td>NaN</td>\n",
       "      <td>26.494628</td>\n",
       "      <td>2.923431</td>\n",
       "      <td>11.708825</td>\n",
       "      <td>245.885335</td>\n",
       "      <td>NaN</td>\n",
       "      <td>NaN</td>\n",
       "      <td>NaN</td>\n",
       "      <td>234.17651</td>\n",
       "      <td>6.131498e-14</td>\n",
       "      <td>11.708825</td>\n",
       "      <td>1.71858</td>\n",
       "    </tr>\n",
       "    <tr>\n",
       "      <th>min</th>\n",
       "      <td>NaN</td>\n",
       "      <td>NaN</td>\n",
       "      <td>NaN</td>\n",
       "      <td>NaN</td>\n",
       "      <td>NaN</td>\n",
       "      <td>NaN</td>\n",
       "      <td>10.080000</td>\n",
       "      <td>1.000000</td>\n",
       "      <td>0.508500</td>\n",
       "      <td>10.678500</td>\n",
       "      <td>NaN</td>\n",
       "      <td>NaN</td>\n",
       "      <td>NaN</td>\n",
       "      <td>10.17000</td>\n",
       "      <td>4.761905e+00</td>\n",
       "      <td>0.508500</td>\n",
       "      <td>4.00000</td>\n",
       "    </tr>\n",
       "    <tr>\n",
       "      <th>25%</th>\n",
       "      <td>NaN</td>\n",
       "      <td>NaN</td>\n",
       "      <td>NaN</td>\n",
       "      <td>NaN</td>\n",
       "      <td>NaN</td>\n",
       "      <td>NaN</td>\n",
       "      <td>32.875000</td>\n",
       "      <td>3.000000</td>\n",
       "      <td>5.924875</td>\n",
       "      <td>124.422375</td>\n",
       "      <td>NaN</td>\n",
       "      <td>NaN</td>\n",
       "      <td>NaN</td>\n",
       "      <td>118.49750</td>\n",
       "      <td>4.761905e+00</td>\n",
       "      <td>5.924875</td>\n",
       "      <td>5.50000</td>\n",
       "    </tr>\n",
       "    <tr>\n",
       "      <th>50%</th>\n",
       "      <td>NaN</td>\n",
       "      <td>NaN</td>\n",
       "      <td>NaN</td>\n",
       "      <td>NaN</td>\n",
       "      <td>NaN</td>\n",
       "      <td>NaN</td>\n",
       "      <td>55.230000</td>\n",
       "      <td>5.000000</td>\n",
       "      <td>12.088000</td>\n",
       "      <td>253.848000</td>\n",
       "      <td>NaN</td>\n",
       "      <td>NaN</td>\n",
       "      <td>NaN</td>\n",
       "      <td>241.76000</td>\n",
       "      <td>4.761905e+00</td>\n",
       "      <td>12.088000</td>\n",
       "      <td>7.00000</td>\n",
       "    </tr>\n",
       "    <tr>\n",
       "      <th>75%</th>\n",
       "      <td>NaN</td>\n",
       "      <td>NaN</td>\n",
       "      <td>NaN</td>\n",
       "      <td>NaN</td>\n",
       "      <td>NaN</td>\n",
       "      <td>NaN</td>\n",
       "      <td>77.935000</td>\n",
       "      <td>8.000000</td>\n",
       "      <td>22.445250</td>\n",
       "      <td>471.350250</td>\n",
       "      <td>NaN</td>\n",
       "      <td>NaN</td>\n",
       "      <td>NaN</td>\n",
       "      <td>448.90500</td>\n",
       "      <td>4.761905e+00</td>\n",
       "      <td>22.445250</td>\n",
       "      <td>8.50000</td>\n",
       "    </tr>\n",
       "    <tr>\n",
       "      <th>max</th>\n",
       "      <td>NaN</td>\n",
       "      <td>NaN</td>\n",
       "      <td>NaN</td>\n",
       "      <td>NaN</td>\n",
       "      <td>NaN</td>\n",
       "      <td>NaN</td>\n",
       "      <td>99.960000</td>\n",
       "      <td>10.000000</td>\n",
       "      <td>49.650000</td>\n",
       "      <td>1042.650000</td>\n",
       "      <td>NaN</td>\n",
       "      <td>NaN</td>\n",
       "      <td>NaN</td>\n",
       "      <td>993.00000</td>\n",
       "      <td>4.761905e+00</td>\n",
       "      <td>49.650000</td>\n",
       "      <td>10.00000</td>\n",
       "    </tr>\n",
       "  </tbody>\n",
       "</table>\n",
       "</div>"
      ],
      "text/plain": [
       "         Invoice ID Branch    City Customer type  Gender         Product line  \\\n",
       "count          1000   1000    1000          1000    1000                 1000   \n",
       "unique         1000      3       3             2       2                    6   \n",
       "top     626-43-7888      A  Yangon        Member  Female  Fashion accessories   \n",
       "freq              1    340     340           501     501                  178   \n",
       "mean            NaN    NaN     NaN           NaN     NaN                  NaN   \n",
       "std             NaN    NaN     NaN           NaN     NaN                  NaN   \n",
       "min             NaN    NaN     NaN           NaN     NaN                  NaN   \n",
       "25%             NaN    NaN     NaN           NaN     NaN                  NaN   \n",
       "50%             NaN    NaN     NaN           NaN     NaN                  NaN   \n",
       "75%             NaN    NaN     NaN           NaN     NaN                  NaN   \n",
       "max             NaN    NaN     NaN           NaN     NaN                  NaN   \n",
       "\n",
       "         Unit price     Quantity       Tax 5%        Total      Date   Time  \\\n",
       "count   1000.000000  1000.000000  1000.000000  1000.000000      1000   1000   \n",
       "unique          NaN          NaN          NaN          NaN        89    506   \n",
       "top             NaN          NaN          NaN          NaN  2/7/2019  19:48   \n",
       "freq            NaN          NaN          NaN          NaN        20      7   \n",
       "mean      55.672130     5.510000    15.379369   322.966749       NaN    NaN   \n",
       "std       26.494628     2.923431    11.708825   245.885335       NaN    NaN   \n",
       "min       10.080000     1.000000     0.508500    10.678500       NaN    NaN   \n",
       "25%       32.875000     3.000000     5.924875   124.422375       NaN    NaN   \n",
       "50%       55.230000     5.000000    12.088000   253.848000       NaN    NaN   \n",
       "75%       77.935000     8.000000    22.445250   471.350250       NaN    NaN   \n",
       "max       99.960000    10.000000    49.650000  1042.650000       NaN    NaN   \n",
       "\n",
       "        Payment        cogs  gross margin percentage  gross income      Rating  \n",
       "count      1000  1000.00000             1.000000e+03   1000.000000  1000.00000  \n",
       "unique        3         NaN                      NaN           NaN         NaN  \n",
       "top     Ewallet         NaN                      NaN           NaN         NaN  \n",
       "freq        345         NaN                      NaN           NaN         NaN  \n",
       "mean        NaN   307.58738             4.761905e+00     15.379369     6.97270  \n",
       "std         NaN   234.17651             6.131498e-14     11.708825     1.71858  \n",
       "min         NaN    10.17000             4.761905e+00      0.508500     4.00000  \n",
       "25%         NaN   118.49750             4.761905e+00      5.924875     5.50000  \n",
       "50%         NaN   241.76000             4.761905e+00     12.088000     7.00000  \n",
       "75%         NaN   448.90500             4.761905e+00     22.445250     8.50000  \n",
       "max         NaN   993.00000             4.761905e+00     49.650000    10.00000  "
      ]
     },
     "execution_count": 4,
     "metadata": {},
     "output_type": "execute_result"
    }
   ],
   "source": [
    "#Descriptive stats\n",
    "sm.describe(include= 'all')"
   ]
  },
  {
   "cell_type": "code",
   "execution_count": 5,
   "id": "b8688e7e",
   "metadata": {},
   "outputs": [
    {
     "data": {
      "text/plain": [
       "\"-Here we use describe function to observed our numerical parameters like mean,mode,median,std etc. \\n    and to observed categorical features like count,unique,top\\n   -we have categorical values such as ('Invoice ID','Branch','City','Customer type','Gender','Product line','Date','Time',\\n   'Payment')\""
      ]
     },
     "execution_count": 5,
     "metadata": {},
     "output_type": "execute_result"
    }
   ],
   "source": [
    "'''-Here we use describe function to observed our numerical parameters like mean,mode,median,std etc. \n",
    "    and to observed categorical features like count,unique,top\n",
    "   -we have categorical values such as ('Invoice ID','Branch','City','Customer type','Gender','Product line','Date','Time',\n",
    "   'Payment')'''"
   ]
  },
  {
   "cell_type": "code",
   "execution_count": 6,
   "id": "17065d81",
   "metadata": {},
   "outputs": [
    {
     "data": {
      "text/plain": [
       "Invoice ID                 0\n",
       "Branch                     0\n",
       "City                       0\n",
       "Customer type              0\n",
       "Gender                     0\n",
       "Product line               0\n",
       "Unit price                 0\n",
       "Quantity                   0\n",
       "Tax 5%                     0\n",
       "Total                      0\n",
       "Date                       0\n",
       "Time                       0\n",
       "Payment                    0\n",
       "cogs                       0\n",
       "gross margin percentage    0\n",
       "gross income               0\n",
       "Rating                     0\n",
       "dtype: int64"
      ]
     },
     "execution_count": 6,
     "metadata": {},
     "output_type": "execute_result"
    }
   ],
   "source": [
    "# missing value imputation\n",
    "sm.isnull().sum()"
   ]
  },
  {
   "cell_type": "code",
   "execution_count": 7,
   "id": "0617df41",
   "metadata": {},
   "outputs": [
    {
     "data": {
      "text/plain": [
       "'There are no missing values in our dataset. '"
      ]
     },
     "execution_count": 7,
     "metadata": {},
     "output_type": "execute_result"
    }
   ],
   "source": [
    "'''There are no missing values in our dataset. '''"
   ]
  },
  {
   "cell_type": "code",
   "execution_count": 8,
   "id": "3dff0aaf",
   "metadata": {},
   "outputs": [
    {
     "data": {
      "text/plain": [
       "Invoice ID                  object\n",
       "Branch                      object\n",
       "City                        object\n",
       "Customer type               object\n",
       "Gender                      object\n",
       "Product line                object\n",
       "Unit price                 float64\n",
       "Quantity                     int64\n",
       "Tax 5%                     float64\n",
       "Total                      float64\n",
       "Date                        object\n",
       "Time                        object\n",
       "Payment                     object\n",
       "cogs                       float64\n",
       "gross margin percentage    float64\n",
       "gross income               float64\n",
       "Rating                     float64\n",
       "dtype: object"
      ]
     },
     "execution_count": 8,
     "metadata": {},
     "output_type": "execute_result"
    }
   ],
   "source": [
    "#data types of each column.\n",
    "sm.dtypes"
   ]
  },
  {
   "cell_type": "markdown",
   "id": "a246606c",
   "metadata": {},
   "source": [
    "# Understanding the data feature by feature. finding the different range of values and counting of ."
   ]
  },
  {
   "cell_type": "code",
   "execution_count": 9,
   "id": "715488dd",
   "metadata": {},
   "outputs": [
    {
     "data": {
      "text/plain": [
       "['Invoice ID',\n",
       " 'Branch',\n",
       " 'City',\n",
       " 'Customer type',\n",
       " 'Gender',\n",
       " 'Product line',\n",
       " 'Date',\n",
       " 'Time',\n",
       " 'Payment']"
      ]
     },
     "execution_count": 9,
     "metadata": {},
     "output_type": "execute_result"
    }
   ],
   "source": [
    "#Checking Categorical data in the dataset.\n",
    "sm.select_dtypes(include=['object']).columns.tolist()"
   ]
  },
  {
   "cell_type": "code",
   "execution_count": 10,
   "id": "76d5b3d2",
   "metadata": {},
   "outputs": [
    {
     "data": {
      "text/plain": [
       "626-43-7888    1\n",
       "550-84-8664    1\n",
       "873-95-4984    1\n",
       "560-30-5617    1\n",
       "868-52-7573    1\n",
       "              ..\n",
       "808-65-0703    1\n",
       "458-10-8612    1\n",
       "832-51-6761    1\n",
       "635-28-5728    1\n",
       "552-44-5977    1\n",
       "Name: Invoice ID, Length: 1000, dtype: int64"
      ]
     },
     "execution_count": 10,
     "metadata": {},
     "output_type": "execute_result"
    }
   ],
   "source": [
    "#Counting the uique values from 'Invoice ID' column\n",
    "sm['Invoice ID'].value_counts()"
   ]
  },
  {
   "cell_type": "code",
   "execution_count": 11,
   "id": "a5dd8ac8",
   "metadata": {},
   "outputs": [
    {
     "data": {
      "text/plain": [
       "\"The 'Invoice ID' have 1000 unique values due to which this is not usefull information for us,we will remove this column.\""
      ]
     },
     "execution_count": 11,
     "metadata": {},
     "output_type": "execute_result"
    }
   ],
   "source": [
    "'''The 'Invoice ID' have 1000 unique values due to which this is not usefull information for us,we will remove this column.'''"
   ]
  },
  {
   "cell_type": "code",
   "execution_count": 12,
   "id": "39d34423",
   "metadata": {},
   "outputs": [
    {
     "data": {
      "text/plain": [
       "A    340\n",
       "B    332\n",
       "C    328\n",
       "Name: Branch, dtype: int64"
      ]
     },
     "execution_count": 12,
     "metadata": {},
     "output_type": "execute_result"
    }
   ],
   "source": [
    "#Counting the uique values from 'Branch' column\n",
    "sm['Branch'].value_counts()"
   ]
  },
  {
   "cell_type": "code",
   "execution_count": 13,
   "id": "7988e723",
   "metadata": {},
   "outputs": [
    {
     "data": {
      "text/plain": [
       "'We have 3 shop branch such as A,B,C '"
      ]
     },
     "execution_count": 13,
     "metadata": {},
     "output_type": "execute_result"
    }
   ],
   "source": [
    "'''We have 3 shop branch such as A,B,C '''"
   ]
  },
  {
   "cell_type": "code",
   "execution_count": 14,
   "id": "c91ec519",
   "metadata": {},
   "outputs": [
    {
     "data": {
      "text/plain": [
       "Yangon       340\n",
       "Mandalay     332\n",
       "Naypyitaw    328\n",
       "Name: City, dtype: int64"
      ]
     },
     "execution_count": 14,
     "metadata": {},
     "output_type": "execute_result"
    }
   ],
   "source": [
    "#Counting the uique values from 'City' column\n",
    "sm['City'].value_counts()"
   ]
  },
  {
   "cell_type": "code",
   "execution_count": 15,
   "id": "a9cfab86",
   "metadata": {},
   "outputs": [
    {
     "data": {
      "text/plain": [
       "\"We have 3 city names where our branches are place having names as 'Yangon' 'Mandalay' 'Naypyitaw' \""
      ]
     },
     "execution_count": 15,
     "metadata": {},
     "output_type": "execute_result"
    }
   ],
   "source": [
    "'''We have 3 city names where our branches are place having names as 'Yangon' 'Mandalay' 'Naypyitaw' '''"
   ]
  },
  {
   "cell_type": "code",
   "execution_count": 16,
   "id": "b55c85d7",
   "metadata": {},
   "outputs": [
    {
     "data": {
      "text/plain": [
       "Member    501\n",
       "Normal    499\n",
       "Name: Customer type, dtype: int64"
      ]
     },
     "execution_count": 16,
     "metadata": {},
     "output_type": "execute_result"
    }
   ],
   "source": [
    "#Counting the uique values from 'Customer type' column\n",
    "sm['Customer type'].value_counts()"
   ]
  },
  {
   "cell_type": "code",
   "execution_count": 17,
   "id": "fac8e79e",
   "metadata": {},
   "outputs": [
    {
     "data": {
      "text/plain": [
       "'We have two type of customers like \"member\",\"normal\" '"
      ]
     },
     "execution_count": 17,
     "metadata": {},
     "output_type": "execute_result"
    }
   ],
   "source": [
    "'''We have two type of customers like \"member\",\"normal\" '''"
   ]
  },
  {
   "cell_type": "code",
   "execution_count": 18,
   "id": "cfb20d5c",
   "metadata": {},
   "outputs": [
    {
     "data": {
      "text/plain": [
       "Female    501\n",
       "Male      499\n",
       "Name: Gender, dtype: int64"
      ]
     },
     "execution_count": 18,
     "metadata": {},
     "output_type": "execute_result"
    }
   ],
   "source": [
    "#Counting the uique values from 'Gender' column\n",
    "sm['Gender'].value_counts()"
   ]
  },
  {
   "cell_type": "code",
   "execution_count": 19,
   "id": "8d0f9f38",
   "metadata": {},
   "outputs": [
    {
     "data": {
      "text/plain": [
       "'Gender of customers are as usually \"Male\",\"Female\" '"
      ]
     },
     "execution_count": 19,
     "metadata": {},
     "output_type": "execute_result"
    }
   ],
   "source": [
    "'''Gender of customers are as usually \"Male\",\"Female\" '''"
   ]
  },
  {
   "cell_type": "code",
   "execution_count": 20,
   "id": "15f79b46",
   "metadata": {},
   "outputs": [
    {
     "data": {
      "text/plain": [
       "Fashion accessories       178\n",
       "Food and beverages        174\n",
       "Electronic accessories    170\n",
       "Sports and travel         166\n",
       "Home and lifestyle        160\n",
       "Health and beauty         152\n",
       "Name: Product line, dtype: int64"
      ]
     },
     "execution_count": 20,
     "metadata": {},
     "output_type": "execute_result"
    }
   ],
   "source": [
    "#Counting the uique values from 'Product line' column\n",
    "sm['Product line'].value_counts()"
   ]
  },
  {
   "cell_type": "code",
   "execution_count": 21,
   "id": "6e854845",
   "metadata": {},
   "outputs": [
    {
     "data": {
      "text/plain": [
       "'We have six types of product line '"
      ]
     },
     "execution_count": 21,
     "metadata": {},
     "output_type": "execute_result"
    }
   ],
   "source": [
    "'''We have six types of product line '''"
   ]
  },
  {
   "cell_type": "code",
   "execution_count": 22,
   "id": "9fb21bdd",
   "metadata": {},
   "outputs": [
    {
     "data": {
      "text/plain": [
       "Ewallet        345\n",
       "Cash           344\n",
       "Credit card    311\n",
       "Name: Payment, dtype: int64"
      ]
     },
     "execution_count": 22,
     "metadata": {},
     "output_type": "execute_result"
    }
   ],
   "source": [
    "# Counting the uique values from  'Payment' column\n",
    "sm[ 'Payment'].value_counts()\n"
   ]
  },
  {
   "cell_type": "code",
   "execution_count": 23,
   "id": "8408f4e8",
   "metadata": {},
   "outputs": [
    {
     "data": {
      "text/plain": [
       "\"We Accept 3 type of payment modes which are 'Ewallet','Cash','Credit Card' \""
      ]
     },
     "execution_count": 23,
     "metadata": {},
     "output_type": "execute_result"
    }
   ],
   "source": [
    "'''We Accept 3 type of payment modes which are 'Ewallet','Cash','Credit Card' '''"
   ]
  },
  {
   "cell_type": "markdown",
   "id": "968ccd05",
   "metadata": {},
   "source": [
    "# Removing unwanted columns from dataset"
   ]
  },
  {
   "cell_type": "code",
   "execution_count": 24,
   "id": "d89dc4e5",
   "metadata": {},
   "outputs": [],
   "source": [
    "''' Since from above observation we have to remove some useless columns which are : \n",
    "    \"Invoice ID\"column'''\n",
    "sm = sm.drop(columns=['Invoice ID'])"
   ]
  },
  {
   "cell_type": "code",
   "execution_count": 25,
   "id": "f97499fc",
   "metadata": {},
   "outputs": [
    {
     "data": {
      "text/html": [
       "<div>\n",
       "<style scoped>\n",
       "    .dataframe tbody tr th:only-of-type {\n",
       "        vertical-align: middle;\n",
       "    }\n",
       "\n",
       "    .dataframe tbody tr th {\n",
       "        vertical-align: top;\n",
       "    }\n",
       "\n",
       "    .dataframe thead th {\n",
       "        text-align: right;\n",
       "    }\n",
       "</style>\n",
       "<table border=\"1\" class=\"dataframe\">\n",
       "  <thead>\n",
       "    <tr style=\"text-align: right;\">\n",
       "      <th></th>\n",
       "      <th>Branch</th>\n",
       "      <th>City</th>\n",
       "      <th>Customer type</th>\n",
       "      <th>Gender</th>\n",
       "      <th>Product line</th>\n",
       "      <th>Unit price</th>\n",
       "      <th>Quantity</th>\n",
       "      <th>Tax 5%</th>\n",
       "      <th>Total</th>\n",
       "      <th>Date</th>\n",
       "      <th>Time</th>\n",
       "      <th>Payment</th>\n",
       "      <th>cogs</th>\n",
       "      <th>gross margin percentage</th>\n",
       "      <th>gross income</th>\n",
       "      <th>Rating</th>\n",
       "    </tr>\n",
       "  </thead>\n",
       "  <tbody>\n",
       "    <tr>\n",
       "      <th>0</th>\n",
       "      <td>A</td>\n",
       "      <td>Yangon</td>\n",
       "      <td>Member</td>\n",
       "      <td>Female</td>\n",
       "      <td>Health and beauty</td>\n",
       "      <td>74.69</td>\n",
       "      <td>7</td>\n",
       "      <td>26.1415</td>\n",
       "      <td>548.9715</td>\n",
       "      <td>1/5/2019</td>\n",
       "      <td>13:08</td>\n",
       "      <td>Ewallet</td>\n",
       "      <td>522.83</td>\n",
       "      <td>4.761905</td>\n",
       "      <td>26.1415</td>\n",
       "      <td>9.1</td>\n",
       "    </tr>\n",
       "  </tbody>\n",
       "</table>\n",
       "</div>"
      ],
      "text/plain": [
       "  Branch    City Customer type  Gender       Product line  Unit price  \\\n",
       "0      A  Yangon        Member  Female  Health and beauty       74.69   \n",
       "\n",
       "   Quantity   Tax 5%     Total      Date   Time  Payment    cogs  \\\n",
       "0         7  26.1415  548.9715  1/5/2019  13:08  Ewallet  522.83   \n",
       "\n",
       "   gross margin percentage  gross income  Rating  \n",
       "0                 4.761905       26.1415     9.1  "
      ]
     },
     "execution_count": 25,
     "metadata": {},
     "output_type": "execute_result"
    }
   ],
   "source": [
    "sm.head(1)"
   ]
  },
  {
   "cell_type": "markdown",
   "id": "4def4648",
   "metadata": {},
   "source": [
    "# Part-2: "
   ]
  },
  {
   "cell_type": "code",
   "execution_count": 26,
   "id": "9dbb22ae",
   "metadata": {},
   "outputs": [
    {
     "data": {
      "text/plain": [
       "'1.Is your supermarket more popular with males or females? \\n   2.What does the customer rating look like and can you also comment on its skewness? \\n   3.What can you say about the aggregate sales across the branches? \\n   4.Which is the most popular payment method used by customers?'"
      ]
     },
     "execution_count": 26,
     "metadata": {},
     "output_type": "execute_result"
    }
   ],
   "source": [
    "'''1.Is your supermarket more popular with males or females? \n",
    "   2.What does the customer rating look like and can you also comment on its skewness? \n",
    "   3.What can you say about the aggregate sales across the branches? \n",
    "   4.Which is the most popular payment method used by customers?'''"
   ]
  },
  {
   "cell_type": "markdown",
   "id": "351d6f83",
   "metadata": {},
   "source": [
    "# 1.Is your supermarket more popular with males or females? "
   ]
  },
  {
   "cell_type": "code",
   "execution_count": 141,
   "id": "1f5906f8",
   "metadata": {},
   "outputs": [
    {
     "data": {
      "image/png": "[encoded data removed]",
      "text/plain": [
       "<Figure size 576x360 with 1 Axes>"
      ]
     },
     "metadata": {
      "needs_background": "light"
     },
     "output_type": "display_data"
    }
   ],
   "source": [
    "# To check popularity between male and feamle we use bar graph \n",
    "x= sm[\"Gender\"].value_counts().keys().tolist()\n",
    "y= sm[\"Gender\"].value_counts().tolist()\n",
    "\n",
    "plt.figure(figsize = (8,5))\n",
    "font1 = {'family':'serif','color':'blue','size':15}\n",
    "font2= {'family':'serif','color':'red','size':15}\n",
    "font3= {'family':'serif','color':'g','size':15}\n",
    "\n",
    "plt.xlabel(\"Gender\",font1)\n",
    "plt.ylabel(\"Count\",font2)\n",
    "plt.title(\"Popularity between male & Female\",font3)\n",
    "plt.bar(x,y,color=[\"#633974\",\"#C39BD3\"],width=0.5)\n",
    "plt.grid(axis = 'y')"
   ]
  },
  {
   "cell_type": "code",
   "execution_count": 28,
   "id": "b2247f8c",
   "metadata": {},
   "outputs": [
    {
     "data": {
      "text/plain": [
       "'Hence from the above plot it concludes that the popularity between males and feamles are near about equal.but we observed\\n   the value count of males and feamles as per that count our shop light popular for Feamles. '"
      ]
     },
     "execution_count": 28,
     "metadata": {},
     "output_type": "execute_result"
    }
   ],
   "source": [
    "'''Hence from the above plot it concludes that the popularity between males and feamles are near about equal.but we observed\n",
    "   the value count of males and feamles as per that count our shop light popular for Feamles. '''\n"
   ]
  },
  {
   "cell_type": "markdown",
   "id": "c9ae8f00",
   "metadata": {},
   "source": [
    "# 2.What does the customer rating look like and can you also comment on its skewness?"
   ]
  },
  {
   "cell_type": "code",
   "execution_count": 72,
   "id": "432345f5",
   "metadata": {
    "scrolled": false
   },
   "outputs": [
    {
     "data": {
      "text/plain": [
       "Text(0.5, 1.0, 'Cutomer rating Scenario')"
      ]
     },
     "execution_count": 72,
     "metadata": {},
     "output_type": "execute_result"
    },
    {
     "data": {
      "image/png": "[encoded data removed]",
      "text/plain": [
       "<Figure size 1440x720 with 1 Axes>"
      ]
     },
     "metadata": {
      "needs_background": "light"
     },
     "output_type": "display_data"
    }
   ],
   "source": [
    "# To observed cutomer ratings skewness we use Histogram\n",
    "from sklearn import preprocessing\n",
    "\n",
    "plt.figure(figsize = (20,10))\n",
    "ratings = sm[\"Rating\"]\n",
    "plt.hist(ratings,bins =50,color='#0AE021')\n",
    "\n",
    "plt.xlabel(\"Customer Rating from 1 to 10\",size=20,color='Blue')\n",
    "plt.ylabel(\"Toatl Ratings\",size=20,color='red')\n",
    "plt.title(\"Cutomer rating Scenario\",size=20,color='green')\n"
   ]
  },
  {
   "cell_type": "code",
   "execution_count": 30,
   "id": "162fc64c",
   "metadata": {},
   "outputs": [
    {
     "data": {
      "text/plain": [
       "'From above plot it concludes that Customer rating is higher in range 6 to 10. The graph also shows the \\n   left skewness/left skewed.\\n   To prove left skewness we have mean and median value of rating mean=6.97270 & median=7.00000 \\n   hence mean < median which known as left skewed.'"
      ]
     },
     "execution_count": 30,
     "metadata": {},
     "output_type": "execute_result"
    }
   ],
   "source": [
    "'''From above plot it concludes that Customer rating is higher in range 6 to 10. The graph also shows the  \n",
    "   slight left skewness/left skewed.\n",
    "   To prove left skewness we have mean and median value of rating mean=6.97270 & median=7.00000 \n",
    "   hence mean < median which known as left skewed.'''"
   ]
  },
  {
   "cell_type": "markdown",
   "id": "122bb73a",
   "metadata": {},
   "source": [
    "# 3.What can you say about the aggregate sales across the branches? "
   ]
  },
  {
   "cell_type": "code",
   "execution_count": 140,
   "id": "f775833c",
   "metadata": {
    "scrolled": false
   },
   "outputs": [
    {
     "data": {
      "image/png": "[encoded data removed]",
      "text/plain": [
       "<Figure size 864x504 with 1 Axes>"
      ]
     },
     "metadata": {
      "needs_background": "light"
     },
     "output_type": "display_data"
    }
   ],
   "source": [
    "# to observed aggregate sales across branches we use Box plot\n",
    "plt.figure(figsize = (12,7))\n",
    "grp = sm.groupby('Branch')['Total'].apply(list).to_dict()\n",
    "plt.boxplot(grp.values(),labels = grp.keys(),showmeans=True)\n",
    "\n",
    "plt.xlabel('Branch',size=20,color='Blue')\n",
    "plt.ylabel(\"Aggregate sales\",size=20,color='red')\n",
    "plt.title(\"Aggregate sales across the branches\",size=20,color='green')\n",
    "plt.grid(axis ='y')"
   ]
  },
  {
   "cell_type": "code",
   "execution_count": 32,
   "id": "2d9257c2",
   "metadata": {},
   "outputs": [
    {
     "data": {
      "text/plain": [
       "\"Hence from above Plot it concludes that branch 'C' having higher sale as compare to barnch 'A'&'B'\\n   and for branch 'A'&'B have aproximate equal sale. \""
      ]
     },
     "execution_count": 32,
     "metadata": {},
     "output_type": "execute_result"
    }
   ],
   "source": [
    "'''Hence from above Plot it concludes that branch 'C' having higher sale as compare to barnch 'A'&'B'\n",
    "   and for branch 'A'&'B have aproximate equal sale. '''"
   ]
  },
  {
   "cell_type": "markdown",
   "id": "3d9bfaf9",
   "metadata": {},
   "source": [
    "# 4.Which is the most popular payment method used by customers?"
   ]
  },
  {
   "cell_type": "code",
   "execution_count": 139,
   "id": "a1168fc1",
   "metadata": {},
   "outputs": [
    {
     "data": {
      "text/plain": [
       "<BarContainer object of 3 artists>"
      ]
     },
     "execution_count": 139,
     "metadata": {},
     "output_type": "execute_result"
    },
    {
     "data": {
      "image/png": "[encoded data removed]",
      "text/plain": [
       "<Figure size 864x432 with 1 Axes>"
      ]
     },
     "metadata": {
      "needs_background": "light"
     },
     "output_type": "display_data"
    }
   ],
   "source": [
    "# To show popularity of payment methods we use pie chart \n",
    "plt.figure(figsize = (12,6))\n",
    "xx= sm['Payment'].value_counts().keys().tolist()\n",
    "yy= sm['Payment'].value_counts().tolist()\n",
    "\n",
    "plt.xlabel('Payment Method',size=20,color='Blue')\n",
    "plt.ylabel(\"No of payments\",size=20,color='red')\n",
    "plt.title(\"popular payment method\",size=20,color='green')\n",
    "plt.grid(axis='y')\n",
    "plt.bar(xx,yy,width=0.4,color= ['#85C1E9','#C39BD3','#F1948A'])"
   ]
  },
  {
   "cell_type": "code",
   "execution_count": 34,
   "id": "4f0a1590",
   "metadata": {},
   "outputs": [
    {
     "data": {
      "text/plain": [
       "'Ewallet'"
      ]
     },
     "execution_count": 34,
     "metadata": {},
     "output_type": "execute_result"
    }
   ],
   "source": [
    "# To cross verify most popular payment method\n",
    "sm['Payment'].max()"
   ]
  },
  {
   "cell_type": "code",
   "execution_count": 35,
   "id": "1064b1e4",
   "metadata": {},
   "outputs": [
    {
     "data": {
      "text/plain": [
       "' \"Ewallet\" is most popular payment method in our shop.\\n    From Above plot it seems that \\'Ewallet\\'& \\'Cash\\' both have equal popularity but \\n    we have count of payment methods as follows: Ewallet--> 345,Cash--> 344,Credit card--> 311\\n    Hence From above avoidances it proove that \"Ewallet\" is most popular pyment method in our shop. '"
      ]
     },
     "execution_count": 35,
     "metadata": {},
     "output_type": "execute_result"
    }
   ],
   "source": [
    "''' \"Ewallet\" is most popular payment method in our shop.\n",
    "    From Above plot it seems that 'Ewallet'& 'Cash' both have equal popularity but \n",
    "    we have count of payment methods as follows: Ewallet--> 345,Cash--> 344,Credit card--> 311\n",
    "    Hence From above avoidances it proove that \"Ewallet\" is most popular pyment method in our shop. '''"
   ]
  },
  {
   "cell_type": "markdown",
   "id": "b73fa8dc",
   "metadata": {},
   "source": [
    "# Part 03:"
   ]
  },
  {
   "cell_type": "code",
   "execution_count": 36,
   "id": "3613a5fa",
   "metadata": {},
   "outputs": [
    {
     "data": {
      "text/plain": [
       "'-Does gross income affect customer ratings?\\n  -Which is the most profitable branch? \\n  -How is the relationship between Gender and Gross income? -\\n  -Can you see any time trend in gross income? -line plot\\n  -Which product line helps you generate the most income?- box\\n  -What is the spending pattern of both males and females, meaning in which category do they spend more?- \\n  -How many products are bought by customers? pie\\n  -Which day of the week has maximum sales? line\\n  -Which hour of the day is busiest? line\\n  -Which product line should your supermarket focus on? \\n  -Which city should be chosen for expansion and what products should be focussed on?'"
      ]
     },
     "execution_count": 36,
     "metadata": {},
     "output_type": "execute_result"
    }
   ],
   "source": [
    "'''-Does gross income affect customer ratings?\n",
    "  -Which is the most profitable branch? \n",
    "  -How is the relationship between Gender and Gross income? -\n",
    "  -Can you see any time trend in gross income? -line plot\n",
    "  -Which product line helps you generate the most income?- box\n",
    "  -What is the spending pattern of both males and females, meaning in which category do they spend more?- \n",
    "  -How many products are bought by customers? pie\n",
    "  -Which day of the week has maximum sales? line\n",
    "  -Which hour of the day is busiest? line\n",
    "  -Which product line should your supermarket focus on? \n",
    "  -Which city should be chosen for expansion and what products should be focussed on?''' "
   ]
  },
  {
   "cell_type": "markdown",
   "id": "d443183e",
   "metadata": {},
   "source": [
    "# 1.Does gross income affect customer ratings?"
   ]
  },
  {
   "cell_type": "code",
   "execution_count": 37,
   "id": "b8b3f24f",
   "metadata": {},
   "outputs": [
    {
     "name": "stdout",
     "output_type": "stream",
     "text": [
      "                     W          pval  normal\n",
      "gross income  0.908759  5.302897e-24   False\n"
     ]
    }
   ],
   "source": [
    "# To Examine the Does gross income affect customer ratings or not we use Ttest\n",
    "# import libraries\n",
    "from scipy.stats import levene\n",
    "from pingouin import ttest\n",
    "\n",
    "#Examine if gross income is normally distributed or not \n",
    "x = sm['gross income']\n",
    "print(pg.normality(x))"
   ]
  },
  {
   "cell_type": "code",
   "execution_count": 38,
   "id": "ed51f79d",
   "metadata": {},
   "outputs": [
    {
     "data": {
      "text/plain": [
       "'The p value is less than 0.05 hence gross income is not normally distributed'"
      ]
     },
     "execution_count": 38,
     "metadata": {},
     "output_type": "execute_result"
    }
   ],
   "source": [
    "'''The p value is less than 0.05 hence gross income is not normally distributed'''"
   ]
  },
  {
   "cell_type": "code",
   "execution_count": 39,
   "id": "87017cf3",
   "metadata": {},
   "outputs": [
    {
     "name": "stdout",
     "output_type": "stream",
     "text": [
      "               W          pval  normal\n",
      "Rating  0.958199  2.685838e-16   False\n"
     ]
    }
   ],
   "source": [
    "#Examine if Rating is normally distributed or not \n",
    "y = sm['Rating']\n",
    "print(pg.normality(y))"
   ]
  },
  {
   "cell_type": "code",
   "execution_count": 40,
   "id": "5459085a",
   "metadata": {},
   "outputs": [
    {
     "data": {
      "text/plain": [
       "'The p value is less than 0.05 hence rating is not normally distributed'"
      ]
     },
     "execution_count": 40,
     "metadata": {},
     "output_type": "execute_result"
    }
   ],
   "source": [
    "'''The p value is less than 0.05 hence rating is not normally distributed'''"
   ]
  },
  {
   "cell_type": "code",
   "execution_count": 41,
   "id": "7c22bb6c",
   "metadata": {},
   "outputs": [
    {
     "data": {
      "image/png": "[encoded data removed]",
      "text/plain": [
       "<Figure size 360x288 with 1 Axes>"
      ]
     },
     "metadata": {
      "needs_background": "light"
     },
     "output_type": "display_data"
    }
   ],
   "source": [
    "#check distribution of Gross Income using q-q plot\n",
    "ax = pg.qqplot(x,dist='norm')"
   ]
  },
  {
   "cell_type": "code",
   "execution_count": 42,
   "id": "730eb273",
   "metadata": {},
   "outputs": [
    {
     "data": {
      "image/png": "[encoded data removed]",
      "text/plain": [
       "<Figure size 360x288 with 1 Axes>"
      ]
     },
     "metadata": {
      "needs_background": "light"
     },
     "output_type": "display_data"
    }
   ],
   "source": [
    "#check distribution of Rating using q-q plot\n",
    "ay = pg.qqplot(y,dist='norm')"
   ]
  },
  {
   "cell_type": "code",
   "execution_count": 43,
   "id": "f7929c8e",
   "metadata": {},
   "outputs": [
    {
     "name": "stdout",
     "output_type": "stream",
     "text": [
      "982.7431529069784 8.64465835428562e-176\n"
     ]
    }
   ],
   "source": [
    "#Levene's test of equality of variance:\n",
    "stat,p=levene(x,y)\n",
    "print(stat,p)"
   ]
  },
  {
   "cell_type": "code",
   "execution_count": 44,
   "id": "fa3c96de",
   "metadata": {},
   "outputs": [
    {
     "name": "stdout",
     "output_type": "stream",
     "text": [
      "                T   dof alternative          p-val         CI95%   cohen-d  \\\n",
      "T-test  22.463748  1998   two-sided  7.885423e-100  [7.67, 9.14]  1.004609   \n",
      "\n",
      "             BF10  power  \n",
      "T-test  9.434e+95    1.0  \n"
     ]
    }
   ],
   "source": [
    "# Performing independent sample Ttest\n",
    "stats= ttest(x,y,correction='auto')\n",
    "print(stats)"
   ]
  },
  {
   "cell_type": "code",
   "execution_count": 45,
   "id": "580f00d0",
   "metadata": {},
   "outputs": [
    {
     "data": {
      "text/plain": [
       "Text(0.5, 1.0, 'Rating vs Gross Income')"
      ]
     },
     "execution_count": 45,
     "metadata": {},
     "output_type": "execute_result"
    },
    {
     "data": {
      "image/png": "[encoded data removed]",
      "text/plain": [
       "<Figure size 864x504 with 1 Axes>"
      ]
     },
     "metadata": {
      "needs_background": "light"
     },
     "output_type": "display_data"
    }
   ],
   "source": [
    "#To visualize affect of gross income over rating we use scatter plot\n",
    "fig = plt.figure(figsize=(12,7))\n",
    "plt.scatter(y,x,color=\"darkred\")\n",
    "plt.xlabel(\"Rating\",size=20,color='Blue')\n",
    "plt.ylabel('Gross Income',size=20,color='red')\n",
    "plt.title(\"Rating vs Gross Income\",size=20,color='green')\n"
   ]
  },
  {
   "cell_type": "code",
   "execution_count": 46,
   "id": "69deafae",
   "metadata": {},
   "outputs": [
    {
     "data": {
      "text/plain": [
       "'There is no relationship between gross income of a customer and his rating.'"
      ]
     },
     "execution_count": 46,
     "metadata": {},
     "output_type": "execute_result"
    }
   ],
   "source": [
    "'''There is no relationship between gross income of a customer and his rating.'''"
   ]
  },
  {
   "cell_type": "code",
   "execution_count": null,
   "id": "940532ac",
   "metadata": {},
   "outputs": [],
   "source": []
  },
  {
   "cell_type": "markdown",
   "id": "c71a1fa1",
   "metadata": {},
   "source": [
    "# 2.Which is the most profitable branch? "
   ]
  },
  {
   "cell_type": "code",
   "execution_count": 47,
   "id": "f3c1f27a",
   "metadata": {},
   "outputs": [
    {
     "data": {
      "text/html": [
       "<div>\n",
       "<style scoped>\n",
       "    .dataframe tbody tr th:only-of-type {\n",
       "        vertical-align: middle;\n",
       "    }\n",
       "\n",
       "    .dataframe tbody tr th {\n",
       "        vertical-align: top;\n",
       "    }\n",
       "\n",
       "    .dataframe thead th {\n",
       "        text-align: right;\n",
       "    }\n",
       "</style>\n",
       "<table border=\"1\" class=\"dataframe\">\n",
       "  <thead>\n",
       "    <tr style=\"text-align: right;\">\n",
       "      <th></th>\n",
       "      <th>Branch</th>\n",
       "      <th>gross income</th>\n",
       "    </tr>\n",
       "  </thead>\n",
       "  <tbody>\n",
       "    <tr>\n",
       "      <th>0</th>\n",
       "      <td>A</td>\n",
       "      <td>5057.1605</td>\n",
       "    </tr>\n",
       "    <tr>\n",
       "      <th>1</th>\n",
       "      <td>B</td>\n",
       "      <td>5057.0320</td>\n",
       "    </tr>\n",
       "    <tr>\n",
       "      <th>2</th>\n",
       "      <td>C</td>\n",
       "      <td>5265.1765</td>\n",
       "    </tr>\n",
       "  </tbody>\n",
       "</table>\n",
       "</div>"
      ],
      "text/plain": [
       "  Branch  gross income\n",
       "0      A     5057.1605\n",
       "1      B     5057.0320\n",
       "2      C     5265.1765"
      ]
     },
     "execution_count": 47,
     "metadata": {},
     "output_type": "execute_result"
    }
   ],
   "source": [
    "# To calculate most profitable branch \n",
    "x1 = sm[['Branch', 'gross income']].groupby(['Branch'],as_index=False).agg('sum')\n",
    "x1"
   ]
  },
  {
   "cell_type": "code",
   "execution_count": 48,
   "id": "68f8bda9",
   "metadata": {},
   "outputs": [
    {
     "data": {
      "image/png": "[encoded data removed]",
      "text/plain": [
       "<Figure size 864x504 with 1 Axes>"
      ]
     },
     "metadata": {
      "needs_background": "light"
     },
     "output_type": "display_data"
    }
   ],
   "source": [
    "# boxplot to see most profitable branch\n",
    "fig = plt.figure(figsize=(12,7))\n",
    "grp = sm.groupby('Branch')['gross income'].apply(list).to_dict()\n",
    "plt.boxplot(grp.values(),labels = grp.keys())\n",
    "\n",
    "plt.xlabel(\"Branch\",size=20,color='Blue')\n",
    "plt.ylabel('Gross Income',size=20,color='red')\n",
    "plt.title(\"Most profitable branch\",size=20,color='green')\n",
    "plt.grid(axis ='x')\n"
   ]
  },
  {
   "cell_type": "code",
   "execution_count": 49,
   "id": "606a1acd",
   "metadata": {},
   "outputs": [
    {
     "data": {
      "text/plain": [
       "'From obove observations and Proofs it concludes that branch \"C\" having higherprofit than other branches.\\n   -There is not much difference in A and B branch.\\n   -Naypyitaw is the most profitable branch.'"
      ]
     },
     "execution_count": 49,
     "metadata": {},
     "output_type": "execute_result"
    }
   ],
   "source": [
    "'''From obove observations and Proofs it concludes that branch \"C\" having higherprofit than other branches.\n",
    "   -There is not much difference in A and B branch.\n",
    "   -Naypyitaw is the most profitable branch.'''"
   ]
  },
  {
   "cell_type": "markdown",
   "id": "5f1413cd",
   "metadata": {},
   "source": [
    "# 3.How is the relationship between Gender and Gross income?"
   ]
  },
  {
   "cell_type": "code",
   "execution_count": 50,
   "id": "4d9fc0e2",
   "metadata": {},
   "outputs": [
    {
     "data": {
      "text/html": [
       "<div>\n",
       "<style scoped>\n",
       "    .dataframe tbody tr th:only-of-type {\n",
       "        vertical-align: middle;\n",
       "    }\n",
       "\n",
       "    .dataframe tbody tr th {\n",
       "        vertical-align: top;\n",
       "    }\n",
       "\n",
       "    .dataframe thead th {\n",
       "        text-align: right;\n",
       "    }\n",
       "</style>\n",
       "<table border=\"1\" class=\"dataframe\">\n",
       "  <thead>\n",
       "    <tr style=\"text-align: right;\">\n",
       "      <th></th>\n",
       "      <th>Gender</th>\n",
       "      <th>gross income</th>\n",
       "    </tr>\n",
       "  </thead>\n",
       "  <tbody>\n",
       "    <tr>\n",
       "      <th>0</th>\n",
       "      <td>Female</td>\n",
       "      <td>7994.425</td>\n",
       "    </tr>\n",
       "    <tr>\n",
       "      <th>1</th>\n",
       "      <td>Male</td>\n",
       "      <td>7384.944</td>\n",
       "    </tr>\n",
       "  </tbody>\n",
       "</table>\n",
       "</div>"
      ],
      "text/plain": [
       "   Gender  gross income\n",
       "0  Female      7994.425\n",
       "1    Male      7384.944"
      ]
     },
     "execution_count": 50,
     "metadata": {},
     "output_type": "execute_result"
    }
   ],
   "source": [
    "x2 = sm[['Gender', 'gross income']].groupby(['Gender'],as_index = False).agg('sum')\n",
    "x2"
   ]
  },
  {
   "cell_type": "code",
   "execution_count": 51,
   "id": "a3a299ae",
   "metadata": {},
   "outputs": [
    {
     "data": {
      "text/plain": [
       "<BarContainer object of 2 artists>"
      ]
     },
     "execution_count": 51,
     "metadata": {},
     "output_type": "execute_result"
    },
    {
     "data": {
      "image/png": "[encoded data removed]",
      "text/plain": [
       "<Figure size 576x360 with 1 Axes>"
      ]
     },
     "metadata": {
      "needs_background": "light"
     },
     "output_type": "display_data"
    }
   ],
   "source": [
    "plt.figure(figsize=(8,5))\n",
    "sp = x2['gross income']\n",
    "sp1 = x2['Gender']\n",
    "\n",
    "plt.xlabel(\"Gender\",size=20,color='Blue')\n",
    "plt.ylabel('Gross Income',size=20,color='red')\n",
    "plt.title(\"Realtionship betwen Gender and Gross Income\",size=20,color='green')\n",
    "\n",
    "plt.bar(sp1,sp,width = 0.4,color=['red','yellow'])\n"
   ]
  },
  {
   "cell_type": "code",
   "execution_count": 52,
   "id": "a5fa3b4e",
   "metadata": {},
   "outputs": [
    {
     "data": {
      "text/plain": [
       "'-Females have More gross income as compare to Male .\\n   -Females gives us total 7994.425 gross income and Males have total 7384.944 gross income.\\n   -During observing relationship between Gender and Gross income it concludes that from females have more gross income. '"
      ]
     },
     "execution_count": 52,
     "metadata": {},
     "output_type": "execute_result"
    }
   ],
   "source": [
    "'''-Females have More gross income as compare to Male .\n",
    "   -Females gives us total 7994.425 gross income and Males have total 7384.944 gross income.\n",
    "   -During observing relationship between Gender and Gross income it concludes that from females have more gross income. '''"
   ]
  },
  {
   "cell_type": "markdown",
   "id": "3974cdbf",
   "metadata": {},
   "source": [
    "# 4.Can you see any time trend in gross income?"
   ]
  },
  {
   "cell_type": "code",
   "execution_count": 53,
   "id": "ae3a4339",
   "metadata": {},
   "outputs": [
    {
     "data": {
      "text/html": [
       "<div>\n",
       "<style scoped>\n",
       "    .dataframe tbody tr th:only-of-type {\n",
       "        vertical-align: middle;\n",
       "    }\n",
       "\n",
       "    .dataframe tbody tr th {\n",
       "        vertical-align: top;\n",
       "    }\n",
       "\n",
       "    .dataframe thead th {\n",
       "        text-align: right;\n",
       "    }\n",
       "</style>\n",
       "<table border=\"1\" class=\"dataframe\">\n",
       "  <thead>\n",
       "    <tr style=\"text-align: right;\">\n",
       "      <th></th>\n",
       "      <th>Date</th>\n",
       "      <th>gross income</th>\n",
       "    </tr>\n",
       "  </thead>\n",
       "  <tbody>\n",
       "    <tr>\n",
       "      <th>0</th>\n",
       "      <td>1/1/2019</td>\n",
       "      <td>225.9610</td>\n",
       "    </tr>\n",
       "    <tr>\n",
       "      <th>1</th>\n",
       "      <td>1/10/2019</td>\n",
       "      <td>169.5690</td>\n",
       "    </tr>\n",
       "    <tr>\n",
       "      <th>2</th>\n",
       "      <td>1/11/2019</td>\n",
       "      <td>100.7125</td>\n",
       "    </tr>\n",
       "    <tr>\n",
       "      <th>3</th>\n",
       "      <td>1/12/2019</td>\n",
       "      <td>246.8935</td>\n",
       "    </tr>\n",
       "    <tr>\n",
       "      <th>4</th>\n",
       "      <td>1/13/2019</td>\n",
       "      <td>116.7240</td>\n",
       "    </tr>\n",
       "  </tbody>\n",
       "</table>\n",
       "</div>"
      ],
      "text/plain": [
       "        Date  gross income\n",
       "0   1/1/2019      225.9610\n",
       "1  1/10/2019      169.5690\n",
       "2  1/11/2019      100.7125\n",
       "3  1/12/2019      246.8935\n",
       "4  1/13/2019      116.7240"
      ]
     },
     "execution_count": 53,
     "metadata": {},
     "output_type": "execute_result"
    }
   ],
   "source": [
    "x5 =sm.loc[:,['Date', 'gross income']].groupby(['Date'],as_index=False).agg('sum')\n",
    "x5.head()"
   ]
  },
  {
   "cell_type": "code",
   "execution_count": 145,
   "id": "cf500bbd",
   "metadata": {
    "scrolled": false
   },
   "outputs": [
    {
     "data": {
      "image/png": "[encoded data removed]",
      "text/plain": [
       "<Figure size 1080x504 with 1 Axes>"
      ]
     },
     "metadata": {
      "needs_background": "light"
     },
     "output_type": "display_data"
    }
   ],
   "source": [
    "# line plot for time trend\n",
    "\n",
    "plt.figure(figsize=(15,7))\n",
    "plt.plot(x5['Date'],x5['gross income'])\n",
    "plt.xlabel(\"Date\",size=20,color='Blue')\n",
    "plt.ylabel('Gross Income',size=20,color='red')\n",
    "plt.title(\"Time Trend in gross income\",size=20,color='green')\n",
    "plt.xticks(rotation=90)\n",
    "plt.grid(axis='x')"
   ]
  },
  {
   "cell_type": "code",
   "execution_count": 55,
   "id": "1565a746",
   "metadata": {},
   "outputs": [
    {
     "data": {
      "text/plain": [
       "'No time trend is observed in gross income it having certain average level.\\n   but sometimes gross income get increases and decreases'"
      ]
     },
     "execution_count": 55,
     "metadata": {},
     "output_type": "execute_result"
    }
   ],
   "source": [
    "'''No Special time trend is observed in gross income it having certain average level.\n",
    "   but sometimes gross income get increases and decreases'''"
   ]
  },
  {
   "cell_type": "markdown",
   "id": "842689d9",
   "metadata": {},
   "source": [
    "#  5.Which product line helps you generate the most income?"
   ]
  },
  {
   "cell_type": "code",
   "execution_count": 56,
   "id": "1dde952b",
   "metadata": {},
   "outputs": [
    {
     "data": {
      "text/html": [
       "<div>\n",
       "<style scoped>\n",
       "    .dataframe tbody tr th:only-of-type {\n",
       "        vertical-align: middle;\n",
       "    }\n",
       "\n",
       "    .dataframe tbody tr th {\n",
       "        vertical-align: top;\n",
       "    }\n",
       "\n",
       "    .dataframe thead th {\n",
       "        text-align: right;\n",
       "    }\n",
       "</style>\n",
       "<table border=\"1\" class=\"dataframe\">\n",
       "  <thead>\n",
       "    <tr style=\"text-align: right;\">\n",
       "      <th></th>\n",
       "      <th>Product line</th>\n",
       "      <th>gross income</th>\n",
       "    </tr>\n",
       "  </thead>\n",
       "  <tbody>\n",
       "    <tr>\n",
       "      <th>0</th>\n",
       "      <td>Electronic accessories</td>\n",
       "      <td>2587.5015</td>\n",
       "    </tr>\n",
       "    <tr>\n",
       "      <th>1</th>\n",
       "      <td>Fashion accessories</td>\n",
       "      <td>2585.9950</td>\n",
       "    </tr>\n",
       "    <tr>\n",
       "      <th>2</th>\n",
       "      <td>Food and beverages</td>\n",
       "      <td>2673.5640</td>\n",
       "    </tr>\n",
       "    <tr>\n",
       "      <th>3</th>\n",
       "      <td>Health and beauty</td>\n",
       "      <td>2342.5590</td>\n",
       "    </tr>\n",
       "    <tr>\n",
       "      <th>4</th>\n",
       "      <td>Home and lifestyle</td>\n",
       "      <td>2564.8530</td>\n",
       "    </tr>\n",
       "    <tr>\n",
       "      <th>5</th>\n",
       "      <td>Sports and travel</td>\n",
       "      <td>2624.8965</td>\n",
       "    </tr>\n",
       "  </tbody>\n",
       "</table>\n",
       "</div>"
      ],
      "text/plain": [
       "             Product line  gross income\n",
       "0  Electronic accessories     2587.5015\n",
       "1     Fashion accessories     2585.9950\n",
       "2      Food and beverages     2673.5640\n",
       "3       Health and beauty     2342.5590\n",
       "4      Home and lifestyle     2564.8530\n",
       "5       Sports and travel     2624.8965"
      ]
     },
     "execution_count": 56,
     "metadata": {},
     "output_type": "execute_result"
    }
   ],
   "source": [
    "product_line =sm.loc[:,['Product line', 'gross income']].groupby(['Product line'],as_index=False).agg('sum')\n",
    "\n",
    "product_line"
   ]
  },
  {
   "cell_type": "code",
   "execution_count": 90,
   "id": "1be97a51",
   "metadata": {},
   "outputs": [
    {
     "data": {
      "image/png": "[encoded data removed]",
      "text/plain": [
       "<Figure size 1080x504 with 1 Axes>"
      ]
     },
     "metadata": {
      "needs_background": "light"
     },
     "output_type": "display_data"
    }
   ],
   "source": [
    "# plotting bar plot\n",
    "plt.figure(figsize=(15,7))\n",
    "plt.xticks(rotation=30)\n",
    "plt.bar(product_line['Product line'],product_line['gross income'],color=['#808080','#800000','#808000','#008000','#000080','#800080'],width=0.6)\n",
    "\n",
    "plt.xlabel(\"Product Line\",size=20,color='Blue')\n",
    "plt.ylabel('Gross Income',size=20,color='red')\n",
    "plt.title(\"Product line vs gross income of products\",size=20,color='green')\n",
    "plt.grid(axis='y')"
   ]
  },
  {
   "cell_type": "code",
   "execution_count": 59,
   "id": "2c4788a7",
   "metadata": {},
   "outputs": [
    {
     "data": {
      "text/plain": [
       "\" 'Sport and Travel' product line help us to generate most of our income\""
      ]
     },
     "execution_count": 59,
     "metadata": {},
     "output_type": "execute_result"
    }
   ],
   "source": [
    "''' 'Food and Beverages' product line help us to generate most of our income'''"
   ]
  },
  {
   "cell_type": "markdown",
   "id": "56a397f5",
   "metadata": {},
   "source": [
    "# 6.What is the spending pattern of both males and females, meaning in which category do they spend more?-"
   ]
  },
  {
   "cell_type": "code",
   "execution_count": 60,
   "id": "a66a93b7",
   "metadata": {},
   "outputs": [
    {
     "data": {
      "text/html": [
       "<div>\n",
       "<style scoped>\n",
       "    .dataframe tbody tr th:only-of-type {\n",
       "        vertical-align: middle;\n",
       "    }\n",
       "\n",
       "    .dataframe tbody tr th {\n",
       "        vertical-align: top;\n",
       "    }\n",
       "\n",
       "    .dataframe thead th {\n",
       "        text-align: right;\n",
       "    }\n",
       "</style>\n",
       "<table border=\"1\" class=\"dataframe\">\n",
       "  <thead>\n",
       "    <tr style=\"text-align: right;\">\n",
       "      <th></th>\n",
       "      <th>Gender</th>\n",
       "      <th>Product line</th>\n",
       "      <th>Total</th>\n",
       "    </tr>\n",
       "  </thead>\n",
       "  <tbody>\n",
       "    <tr>\n",
       "      <th>0</th>\n",
       "      <td>Female</td>\n",
       "      <td>Electronic accessories</td>\n",
       "      <td>27102.0225</td>\n",
       "    </tr>\n",
       "    <tr>\n",
       "      <th>1</th>\n",
       "      <td>Female</td>\n",
       "      <td>Fashion accessories</td>\n",
       "      <td>30437.4000</td>\n",
       "    </tr>\n",
       "    <tr>\n",
       "      <th>2</th>\n",
       "      <td>Female</td>\n",
       "      <td>Food and beverages</td>\n",
       "      <td>33170.9175</td>\n",
       "    </tr>\n",
       "    <tr>\n",
       "      <th>3</th>\n",
       "      <td>Female</td>\n",
       "      <td>Health and beauty</td>\n",
       "      <td>18560.9865</td>\n",
       "    </tr>\n",
       "    <tr>\n",
       "      <th>4</th>\n",
       "      <td>Female</td>\n",
       "      <td>Home and lifestyle</td>\n",
       "      <td>30036.8775</td>\n",
       "    </tr>\n",
       "    <tr>\n",
       "      <th>5</th>\n",
       "      <td>Female</td>\n",
       "      <td>Sports and travel</td>\n",
       "      <td>28574.7210</td>\n",
       "    </tr>\n",
       "    <tr>\n",
       "      <th>6</th>\n",
       "      <td>Male</td>\n",
       "      <td>Electronic accessories</td>\n",
       "      <td>27235.5090</td>\n",
       "    </tr>\n",
       "    <tr>\n",
       "      <th>7</th>\n",
       "      <td>Male</td>\n",
       "      <td>Fashion accessories</td>\n",
       "      <td>23868.4950</td>\n",
       "    </tr>\n",
       "    <tr>\n",
       "      <th>8</th>\n",
       "      <td>Male</td>\n",
       "      <td>Food and beverages</td>\n",
       "      <td>22973.9265</td>\n",
       "    </tr>\n",
       "    <tr>\n",
       "      <th>9</th>\n",
       "      <td>Male</td>\n",
       "      <td>Health and beauty</td>\n",
       "      <td>30632.7525</td>\n",
       "    </tr>\n",
       "    <tr>\n",
       "      <th>10</th>\n",
       "      <td>Male</td>\n",
       "      <td>Home and lifestyle</td>\n",
       "      <td>23825.0355</td>\n",
       "    </tr>\n",
       "    <tr>\n",
       "      <th>11</th>\n",
       "      <td>Male</td>\n",
       "      <td>Sports and travel</td>\n",
       "      <td>26548.1055</td>\n",
       "    </tr>\n",
       "  </tbody>\n",
       "</table>\n",
       "</div>"
      ],
      "text/plain": [
       "    Gender            Product line       Total\n",
       "0   Female  Electronic accessories  27102.0225\n",
       "1   Female     Fashion accessories  30437.4000\n",
       "2   Female      Food and beverages  33170.9175\n",
       "3   Female       Health and beauty  18560.9865\n",
       "4   Female      Home and lifestyle  30036.8775\n",
       "5   Female       Sports and travel  28574.7210\n",
       "6     Male  Electronic accessories  27235.5090\n",
       "7     Male     Fashion accessories  23868.4950\n",
       "8     Male      Food and beverages  22973.9265\n",
       "9     Male       Health and beauty  30632.7525\n",
       "10    Male      Home and lifestyle  23825.0355\n",
       "11    Male       Sports and travel  26548.1055"
      ]
     },
     "execution_count": 60,
     "metadata": {},
     "output_type": "execute_result"
    }
   ],
   "source": [
    "gender = sm[['Gender','Product line','Total']].groupby(['Gender','Product line'], as_index=False).sum()\n",
    "gender"
   ]
  },
  {
   "cell_type": "code",
   "execution_count": 62,
   "id": "e5f14f46",
   "metadata": {},
   "outputs": [
    {
     "data": {
      "text/plain": [
       "Text(0.5, 1.0, 'Product line vs Total spending')"
      ]
     },
     "execution_count": 62,
     "metadata": {},
     "output_type": "execute_result"
    },
    {
     "data": {
      "text/plain": [
       "<Figure size 1080x504 with 0 Axes>"
      ]
     },
     "metadata": {},
     "output_type": "display_data"
    },
    {
     "data": {
      "image/png": "[encoded data removed]",
      "text/plain": [
       "<Figure size 432x288 with 1 Axes>"
      ]
     },
     "metadata": {
      "needs_background": "light"
     },
     "output_type": "display_data"
    }
   ],
   "source": [
    "# Creating a dataframe for better visualization\n",
    "male_product_line = [27102.0225,30437.4000,33170.9175,18560.9865,30036.8775,28574.7210]\n",
    "female_product_line =[27235.5090,23868.4950,22973.9265,30632.7525,23825.0355,26548.1055]\n",
    "index = ['Electronic accessories','Fashion accessories' ,'Food and beverages' ,'Health and beauty' ,\n",
    "         'Home and lifestyle' ,'Sports and travel']\n",
    "df = pd.DataFrame({'Male': male_product_line,\n",
    "                   'Female': female_product_line}, index=index)\n",
    "\n",
    "plt.figure(figsize=(15,7))\n",
    "ax = df.plot.bar(rot=0)\n",
    "plt.xticks(rotation=90)\n",
    "plt.xlabel(\"Product Line\",size=15,color='Blue')\n",
    "plt.ylabel('Total Spending ',size=15,color='red')\n",
    "plt.title(\"Product line vs Total spending\",size=20,color='green')"
   ]
  },
  {
   "cell_type": "code",
   "execution_count": 63,
   "id": "08fd125e",
   "metadata": {},
   "outputs": [
    {
     "data": {
      "text/plain": [
       "'From above observation it concludes that:\\n  -Male spend more in Food and beverages products\\n  -Feamle spend more in Health and beauty products.'"
      ]
     },
     "execution_count": 63,
     "metadata": {},
     "output_type": "execute_result"
    }
   ],
   "source": [
    "'''From above observation it concludes that:\n",
    "  -Male spend more in Food and beverages products\n",
    "  -Feamle spend more in Health and beauty products.'''"
   ]
  },
  {
   "cell_type": "markdown",
   "id": "fe15ebe0",
   "metadata": {},
   "source": [
    "# 7.How many products are bought by customers?"
   ]
  },
  {
   "cell_type": "code",
   "execution_count": 64,
   "id": "26a67530",
   "metadata": {},
   "outputs": [
    {
     "data": {
      "image/png": "[encoded data removed]",
      "text/plain": [
       "<Figure size 864x432 with 1 Axes>"
      ]
     },
     "metadata": {
      "needs_background": "light"
     },
     "output_type": "display_data"
    }
   ],
   "source": [
    "# histogram for Quantity of product customer buy\n",
    "Quan = [1,2,3,4,5,6,7,8,9,10]\n",
    "plt.figure(figsize = (12,6))\n",
    "plt.hist(sm['Quantity'],color = 'darkred')\n",
    "plt.xticks(Quan)\n",
    "\n",
    "plt.xlabel(\"Quantity\",size=20,color='Blue')\n",
    "plt.ylabel('Customers brought Quantity',size=20,color='red')\n",
    "plt.title(\"products bought by customers\",size=20,color='green')\n",
    "plt.grid(axis='x')"
   ]
  },
  {
   "cell_type": "code",
   "execution_count": 65,
   "id": "5f7e91c4",
   "metadata": {},
   "outputs": [
    {
     "data": {
      "text/plain": [
       "'Usually most of the times customer buy 10 products.'"
      ]
     },
     "execution_count": 65,
     "metadata": {},
     "output_type": "execute_result"
    }
   ],
   "source": [
    "'''Usually most of the times customer buy 10 products.'''"
   ]
  },
  {
   "cell_type": "markdown",
   "id": "01c7bc69",
   "metadata": {},
   "source": [
    "# 8.Which day of the week has maximum sales?"
   ]
  },
  {
   "cell_type": "code",
   "execution_count": 102,
   "id": "e5fa7209",
   "metadata": {},
   "outputs": [
    {
     "data": {
      "text/html": [
       "<div>\n",
       "<style scoped>\n",
       "    .dataframe tbody tr th:only-of-type {\n",
       "        vertical-align: middle;\n",
       "    }\n",
       "\n",
       "    .dataframe tbody tr th {\n",
       "        vertical-align: top;\n",
       "    }\n",
       "\n",
       "    .dataframe thead th {\n",
       "        text-align: right;\n",
       "    }\n",
       "</style>\n",
       "<table border=\"1\" class=\"dataframe\">\n",
       "  <thead>\n",
       "    <tr style=\"text-align: right;\">\n",
       "      <th></th>\n",
       "      <th>Branch</th>\n",
       "      <th>City</th>\n",
       "      <th>Customer type</th>\n",
       "      <th>Gender</th>\n",
       "      <th>Product line</th>\n",
       "      <th>Unit price</th>\n",
       "      <th>Quantity</th>\n",
       "      <th>Tax 5%</th>\n",
       "      <th>Total</th>\n",
       "      <th>Date</th>\n",
       "      <th>...</th>\n",
       "      <th>Payment</th>\n",
       "      <th>cogs</th>\n",
       "      <th>gross margin percentage</th>\n",
       "      <th>gross income</th>\n",
       "      <th>Rating</th>\n",
       "      <th>Hour</th>\n",
       "      <th>Month</th>\n",
       "      <th>Year</th>\n",
       "      <th>date</th>\n",
       "      <th>weekday</th>\n",
       "    </tr>\n",
       "  </thead>\n",
       "  <tbody>\n",
       "    <tr>\n",
       "      <th>0</th>\n",
       "      <td>A</td>\n",
       "      <td>Yangon</td>\n",
       "      <td>Member</td>\n",
       "      <td>Female</td>\n",
       "      <td>Health and beauty</td>\n",
       "      <td>74.69</td>\n",
       "      <td>7</td>\n",
       "      <td>26.1415</td>\n",
       "      <td>548.9715</td>\n",
       "      <td>2019-01-05</td>\n",
       "      <td>...</td>\n",
       "      <td>Ewallet</td>\n",
       "      <td>522.83</td>\n",
       "      <td>4.761905</td>\n",
       "      <td>26.1415</td>\n",
       "      <td>9.1</td>\n",
       "      <td>0</td>\n",
       "      <td>1</td>\n",
       "      <td>2019</td>\n",
       "      <td>5</td>\n",
       "      <td>5</td>\n",
       "    </tr>\n",
       "    <tr>\n",
       "      <th>1</th>\n",
       "      <td>C</td>\n",
       "      <td>Naypyitaw</td>\n",
       "      <td>Normal</td>\n",
       "      <td>Female</td>\n",
       "      <td>Electronic accessories</td>\n",
       "      <td>15.28</td>\n",
       "      <td>5</td>\n",
       "      <td>3.8200</td>\n",
       "      <td>80.2200</td>\n",
       "      <td>2019-03-08</td>\n",
       "      <td>...</td>\n",
       "      <td>Cash</td>\n",
       "      <td>76.40</td>\n",
       "      <td>4.761905</td>\n",
       "      <td>3.8200</td>\n",
       "      <td>9.6</td>\n",
       "      <td>0</td>\n",
       "      <td>3</td>\n",
       "      <td>2019</td>\n",
       "      <td>8</td>\n",
       "      <td>4</td>\n",
       "    </tr>\n",
       "  </tbody>\n",
       "</table>\n",
       "<p>2 rows × 21 columns</p>\n",
       "</div>"
      ],
      "text/plain": [
       "  Branch       City Customer type  Gender            Product line  Unit price  \\\n",
       "0      A     Yangon        Member  Female       Health and beauty       74.69   \n",
       "1      C  Naypyitaw        Normal  Female  Electronic accessories       15.28   \n",
       "\n",
       "   Quantity   Tax 5%     Total       Date  ...  Payment    cogs  \\\n",
       "0         7  26.1415  548.9715 2019-01-05  ...  Ewallet  522.83   \n",
       "1         5   3.8200   80.2200 2019-03-08  ...     Cash   76.40   \n",
       "\n",
       "   gross margin percentage  gross income  Rating  Hour  Month  Year  date  \\\n",
       "0                 4.761905       26.1415     9.1     0      1  2019     5   \n",
       "1                 4.761905        3.8200     9.6     0      3  2019     8   \n",
       "\n",
       "   weekday  \n",
       "0        5  \n",
       "1        4  \n",
       "\n",
       "[2 rows x 21 columns]"
      ]
     },
     "execution_count": 102,
     "metadata": {},
     "output_type": "execute_result"
    }
   ],
   "source": [
    "# using datetime function\n",
    "sm.Date = pd.to_datetime(sm.Date)\n",
    "sm.head(2)"
   ]
  },
  {
   "cell_type": "code",
   "execution_count": 131,
   "id": "cdf4b550",
   "metadata": {},
   "outputs": [
    {
     "data": {
      "text/html": [
       "<div>\n",
       "<style scoped>\n",
       "    .dataframe tbody tr th:only-of-type {\n",
       "        vertical-align: middle;\n",
       "    }\n",
       "\n",
       "    .dataframe tbody tr th {\n",
       "        vertical-align: top;\n",
       "    }\n",
       "\n",
       "    .dataframe thead th {\n",
       "        text-align: right;\n",
       "    }\n",
       "</style>\n",
       "<table border=\"1\" class=\"dataframe\">\n",
       "  <thead>\n",
       "    <tr style=\"text-align: right;\">\n",
       "      <th></th>\n",
       "      <th>Branch</th>\n",
       "      <th>City</th>\n",
       "      <th>Gender</th>\n",
       "      <th>Product line</th>\n",
       "      <th>Unit price</th>\n",
       "      <th>Quantity</th>\n",
       "      <th>Tax 5%</th>\n",
       "      <th>Total</th>\n",
       "      <th>Date</th>\n",
       "      <th>Time</th>\n",
       "      <th>Payment</th>\n",
       "      <th>gross margin percentage</th>\n",
       "      <th>gross income</th>\n",
       "      <th>Rating</th>\n",
       "      <th>Month</th>\n",
       "      <th>Year</th>\n",
       "      <th>date</th>\n",
       "      <th>weekday</th>\n",
       "      <th>hour</th>\n",
       "    </tr>\n",
       "  </thead>\n",
       "  <tbody>\n",
       "    <tr>\n",
       "      <th>0</th>\n",
       "      <td>A</td>\n",
       "      <td>Yangon</td>\n",
       "      <td>Female</td>\n",
       "      <td>Health and beauty</td>\n",
       "      <td>74.69</td>\n",
       "      <td>7</td>\n",
       "      <td>26.1415</td>\n",
       "      <td>548.9715</td>\n",
       "      <td>2019-01-05</td>\n",
       "      <td>1970-01-01 00:00:00.000000013</td>\n",
       "      <td>Ewallet</td>\n",
       "      <td>4.761905</td>\n",
       "      <td>26.1415</td>\n",
       "      <td>9.1</td>\n",
       "      <td>1</td>\n",
       "      <td>2019</td>\n",
       "      <td>5</td>\n",
       "      <td>5</td>\n",
       "      <td>0</td>\n",
       "    </tr>\n",
       "    <tr>\n",
       "      <th>1</th>\n",
       "      <td>C</td>\n",
       "      <td>Naypyitaw</td>\n",
       "      <td>Female</td>\n",
       "      <td>Electronic accessories</td>\n",
       "      <td>15.28</td>\n",
       "      <td>5</td>\n",
       "      <td>3.8200</td>\n",
       "      <td>80.2200</td>\n",
       "      <td>2019-03-08</td>\n",
       "      <td>1970-01-01 00:00:00.000000010</td>\n",
       "      <td>Cash</td>\n",
       "      <td>4.761905</td>\n",
       "      <td>3.8200</td>\n",
       "      <td>9.6</td>\n",
       "      <td>3</td>\n",
       "      <td>2019</td>\n",
       "      <td>8</td>\n",
       "      <td>4</td>\n",
       "      <td>0</td>\n",
       "    </tr>\n",
       "  </tbody>\n",
       "</table>\n",
       "</div>"
      ],
      "text/plain": [
       "  Branch       City  Gender            Product line  Unit price  Quantity  \\\n",
       "0      A     Yangon  Female       Health and beauty       74.69         7   \n",
       "1      C  Naypyitaw  Female  Electronic accessories       15.28         5   \n",
       "\n",
       "    Tax 5%     Total       Date                          Time  Payment  \\\n",
       "0  26.1415  548.9715 2019-01-05 1970-01-01 00:00:00.000000013  Ewallet   \n",
       "1   3.8200   80.2200 2019-03-08 1970-01-01 00:00:00.000000010     Cash   \n",
       "\n",
       "   gross margin percentage  gross income  Rating  Month  Year  date  weekday  \\\n",
       "0                 4.761905       26.1415     9.1      1  2019     5        5   \n",
       "1                 4.761905        3.8200     9.6      3  2019     8        4   \n",
       "\n",
       "   hour  \n",
       "0     0  \n",
       "1     0  "
      ]
     },
     "execution_count": 131,
     "metadata": {},
     "output_type": "execute_result"
    }
   ],
   "source": [
    "# Separating month, year, date and weekday\n",
    "sm['Month'] = sm.Date.dt.month\n",
    "sm['Year'] = sm.Date.dt.year\n",
    "sm['date'] = sm.Date.dt.day\n",
    "sm['weekday']=sm.Date.dt.weekday\n",
    "\n",
    "sm.head(2)"
   ]
  },
  {
   "cell_type": "code",
   "execution_count": 76,
   "id": "9441cbf6",
   "metadata": {},
   "outputs": [
    {
     "data": {
      "text/plain": [
       "array([1, 3, 2], dtype=int64)"
      ]
     },
     "execution_count": 76,
     "metadata": {},
     "output_type": "execute_result"
    }
   ],
   "source": [
    "sm.Month.unique()"
   ]
  },
  {
   "cell_type": "code",
   "execution_count": 99,
   "id": "58518748",
   "metadata": {},
   "outputs": [
    {
     "data": {
      "text/html": [
       "<div>\n",
       "<style scoped>\n",
       "    .dataframe tbody tr th:only-of-type {\n",
       "        vertical-align: middle;\n",
       "    }\n",
       "\n",
       "    .dataframe tbody tr th {\n",
       "        vertical-align: top;\n",
       "    }\n",
       "\n",
       "    .dataframe thead th {\n",
       "        text-align: right;\n",
       "    }\n",
       "</style>\n",
       "<table border=\"1\" class=\"dataframe\">\n",
       "  <thead>\n",
       "    <tr style=\"text-align: right;\">\n",
       "      <th></th>\n",
       "      <th>weekday</th>\n",
       "      <th>Total</th>\n",
       "    </tr>\n",
       "  </thead>\n",
       "  <tbody>\n",
       "    <tr>\n",
       "      <th>0</th>\n",
       "      <td>0</td>\n",
       "      <td>37899.0780</td>\n",
       "    </tr>\n",
       "    <tr>\n",
       "      <th>1</th>\n",
       "      <td>1</td>\n",
       "      <td>51482.2455</td>\n",
       "    </tr>\n",
       "    <tr>\n",
       "      <th>2</th>\n",
       "      <td>2</td>\n",
       "      <td>43731.1350</td>\n",
       "    </tr>\n",
       "    <tr>\n",
       "      <th>3</th>\n",
       "      <td>3</td>\n",
       "      <td>45349.2480</td>\n",
       "    </tr>\n",
       "    <tr>\n",
       "      <th>4</th>\n",
       "      <td>4</td>\n",
       "      <td>43926.3405</td>\n",
       "    </tr>\n",
       "    <tr>\n",
       "      <th>5</th>\n",
       "      <td>5</td>\n",
       "      <td>56120.8095</td>\n",
       "    </tr>\n",
       "    <tr>\n",
       "      <th>6</th>\n",
       "      <td>6</td>\n",
       "      <td>44457.8925</td>\n",
       "    </tr>\n",
       "  </tbody>\n",
       "</table>\n",
       "</div>"
      ],
      "text/plain": [
       "   weekday       Total\n",
       "0        0  37899.0780\n",
       "1        1  51482.2455\n",
       "2        2  43731.1350\n",
       "3        3  45349.2480\n",
       "4        4  43926.3405\n",
       "5        5  56120.8095\n",
       "6        6  44457.8925"
      ]
     },
     "execution_count": 99,
     "metadata": {},
     "output_type": "execute_result"
    }
   ],
   "source": [
    "Busy_day = sm[['weekday','Total']].groupby(['weekday'], as_index=False).sum()\n",
    "Busy_day"
   ]
  },
  {
   "cell_type": "code",
   "execution_count": 109,
   "id": "f4a40221",
   "metadata": {},
   "outputs": [
    {
     "data": {
      "image/png": "[encoded data removed]",
      "text/plain": [
       "<Figure size 1080x504 with 1 Axes>"
      ]
     },
     "metadata": {
      "needs_background": "light"
     },
     "output_type": "display_data"
    }
   ],
   "source": [
    "# Bar plot for comparing weekdays\n",
    "plt.figure(figsize=(15,7))\n",
    "plt.bar( Busy_day['weekday'],Busy_day['Total'],\n",
    "        color=['#808080','#800000','#808000','#008000','#000080','#800080','yellow'],width=0.6)\n",
    "\n",
    "plt.xlabel(\"Weekday\",size=20,color='Blue')\n",
    "plt.ylabel('Total sell',size=20,color='red')\n",
    "plt.title(\"Weekday vs Total sell\",size=20,color='green')\n",
    "plt.grid(axis='y')"
   ]
  },
  {
   "cell_type": "code",
   "execution_count": null,
   "id": "24c07132",
   "metadata": {},
   "outputs": [],
   "source": [
    "'''Saturday have maxximun sale in week.'''"
   ]
  },
  {
   "cell_type": "markdown",
   "id": "ef448ef8",
   "metadata": {},
   "source": [
    "# 9.Which hour of the day is busiest?"
   ]
  },
  {
   "cell_type": "code",
   "execution_count": 118,
   "id": "3265e878",
   "metadata": {},
   "outputs": [
    {
     "data": {
      "text/html": [
       "<div>\n",
       "<style scoped>\n",
       "    .dataframe tbody tr th:only-of-type {\n",
       "        vertical-align: middle;\n",
       "    }\n",
       "\n",
       "    .dataframe tbody tr th {\n",
       "        vertical-align: top;\n",
       "    }\n",
       "\n",
       "    .dataframe thead th {\n",
       "        text-align: right;\n",
       "    }\n",
       "</style>\n",
       "<table border=\"1\" class=\"dataframe\">\n",
       "  <thead>\n",
       "    <tr style=\"text-align: right;\">\n",
       "      <th></th>\n",
       "      <th>Time</th>\n",
       "      <th>Total</th>\n",
       "    </tr>\n",
       "  </thead>\n",
       "  <tbody>\n",
       "    <tr>\n",
       "      <th>0</th>\n",
       "      <td>1970-01-01 00:00:00.000000010</td>\n",
       "      <td>31421.4810</td>\n",
       "    </tr>\n",
       "    <tr>\n",
       "      <th>1</th>\n",
       "      <td>1970-01-01 00:00:00.000000011</td>\n",
       "      <td>30377.3295</td>\n",
       "    </tr>\n",
       "    <tr>\n",
       "      <th>2</th>\n",
       "      <td>1970-01-01 00:00:00.000000012</td>\n",
       "      <td>26065.8825</td>\n",
       "    </tr>\n",
       "    <tr>\n",
       "      <th>3</th>\n",
       "      <td>1970-01-01 00:00:00.000000013</td>\n",
       "      <td>34723.2270</td>\n",
       "    </tr>\n",
       "    <tr>\n",
       "      <th>4</th>\n",
       "      <td>1970-01-01 00:00:00.000000014</td>\n",
       "      <td>30828.3990</td>\n",
       "    </tr>\n",
       "    <tr>\n",
       "      <th>5</th>\n",
       "      <td>1970-01-01 00:00:00.000000015</td>\n",
       "      <td>31179.5085</td>\n",
       "    </tr>\n",
       "    <tr>\n",
       "      <th>6</th>\n",
       "      <td>1970-01-01 00:00:00.000000016</td>\n",
       "      <td>25226.3235</td>\n",
       "    </tr>\n",
       "    <tr>\n",
       "      <th>7</th>\n",
       "      <td>1970-01-01 00:00:00.000000017</td>\n",
       "      <td>24445.2180</td>\n",
       "    </tr>\n",
       "    <tr>\n",
       "      <th>8</th>\n",
       "      <td>1970-01-01 00:00:00.000000018</td>\n",
       "      <td>26030.3400</td>\n",
       "    </tr>\n",
       "    <tr>\n",
       "      <th>9</th>\n",
       "      <td>1970-01-01 00:00:00.000000019</td>\n",
       "      <td>39699.5130</td>\n",
       "    </tr>\n",
       "    <tr>\n",
       "      <th>10</th>\n",
       "      <td>1970-01-01 00:00:00.000000020</td>\n",
       "      <td>22969.5270</td>\n",
       "    </tr>\n",
       "  </tbody>\n",
       "</table>\n",
       "</div>"
      ],
      "text/plain": [
       "                            Time       Total\n",
       "0  1970-01-01 00:00:00.000000010  31421.4810\n",
       "1  1970-01-01 00:00:00.000000011  30377.3295\n",
       "2  1970-01-01 00:00:00.000000012  26065.8825\n",
       "3  1970-01-01 00:00:00.000000013  34723.2270\n",
       "4  1970-01-01 00:00:00.000000014  30828.3990\n",
       "5  1970-01-01 00:00:00.000000015  31179.5085\n",
       "6  1970-01-01 00:00:00.000000016  25226.3235\n",
       "7  1970-01-01 00:00:00.000000017  24445.2180\n",
       "8  1970-01-01 00:00:00.000000018  26030.3400\n",
       "9  1970-01-01 00:00:00.000000019  39699.5130\n",
       "10 1970-01-01 00:00:00.000000020  22969.5270"
      ]
     },
     "execution_count": 118,
     "metadata": {},
     "output_type": "execute_result"
    }
   ],
   "source": [
    "# Filtering time vs total purchase \n",
    "Busy_hrs = sm[['Time','Total']].groupby(['Time'], as_index=False).sum()\n",
    "Busy_hrs"
   ]
  },
  {
   "cell_type": "code",
   "execution_count": 148,
   "id": "6d4da36a",
   "metadata": {},
   "outputs": [
    {
     "data": {
      "image/png": "[encoded data removed]",
      "text/plain": [
       "<Figure size 1080x504 with 1 Axes>"
      ]
     },
     "metadata": {
      "needs_background": "light"
     },
     "output_type": "display_data"
    }
   ],
   "source": [
    "# x8 hours of the day\n",
    "plt.figure(figsize=(15,7))\n",
    "x8=[10,11,12,13,14,15,16,17,18,19,20]\n",
    "plt.bar(x8,Busy_hrs['Total'],\n",
    "      color=['#808080','#800000','#808000','#008000','#000080','#800080','yellow'],width=0.6)\n",
    "\n",
    "plt.xlabel(\"Hour\",size=20,color='Blue')\n",
    "plt.ylabel('Total sell',size=20,color='red')\n",
    "plt.title(\"Hour vs Total sell\",size=20,color='green')\n",
    "plt.grid(axis='y')"
   ]
  },
  {
   "cell_type": "code",
   "execution_count": null,
   "id": "0b8fd4ce",
   "metadata": {},
   "outputs": [],
   "source": [
    "'''19th hour of the day is busiest hour in our shop.'''"
   ]
  },
  {
   "cell_type": "markdown",
   "id": "69e1aa54",
   "metadata": {},
   "source": [
    "# 10.Which product line should your supermarket focus on? "
   ]
  },
  {
   "cell_type": "code",
   "execution_count": 80,
   "id": "14870360",
   "metadata": {},
   "outputs": [
    {
     "data": {
      "text/html": [
       "<div>\n",
       "<style scoped>\n",
       "    .dataframe tbody tr th:only-of-type {\n",
       "        vertical-align: middle;\n",
       "    }\n",
       "\n",
       "    .dataframe tbody tr th {\n",
       "        vertical-align: top;\n",
       "    }\n",
       "\n",
       "    .dataframe thead th {\n",
       "        text-align: right;\n",
       "    }\n",
       "</style>\n",
       "<table border=\"1\" class=\"dataframe\">\n",
       "  <thead>\n",
       "    <tr style=\"text-align: right;\">\n",
       "      <th></th>\n",
       "      <th>Product line</th>\n",
       "      <th>Quantity</th>\n",
       "    </tr>\n",
       "  </thead>\n",
       "  <tbody>\n",
       "    <tr>\n",
       "      <th>0</th>\n",
       "      <td>Electronic accessories</td>\n",
       "      <td>971</td>\n",
       "    </tr>\n",
       "    <tr>\n",
       "      <th>1</th>\n",
       "      <td>Fashion accessories</td>\n",
       "      <td>902</td>\n",
       "    </tr>\n",
       "    <tr>\n",
       "      <th>2</th>\n",
       "      <td>Food and beverages</td>\n",
       "      <td>952</td>\n",
       "    </tr>\n",
       "    <tr>\n",
       "      <th>3</th>\n",
       "      <td>Health and beauty</td>\n",
       "      <td>854</td>\n",
       "    </tr>\n",
       "    <tr>\n",
       "      <th>4</th>\n",
       "      <td>Home and lifestyle</td>\n",
       "      <td>911</td>\n",
       "    </tr>\n",
       "    <tr>\n",
       "      <th>5</th>\n",
       "      <td>Sports and travel</td>\n",
       "      <td>920</td>\n",
       "    </tr>\n",
       "  </tbody>\n",
       "</table>\n",
       "</div>"
      ],
      "text/plain": [
       "             Product line  Quantity\n",
       "0  Electronic accessories       971\n",
       "1     Fashion accessories       902\n",
       "2      Food and beverages       952\n",
       "3       Health and beauty       854\n",
       "4      Home and lifestyle       911\n",
       "5       Sports and travel       920"
      ]
     },
     "execution_count": 80,
     "metadata": {},
     "output_type": "execute_result"
    }
   ],
   "source": [
    "#Creating Dataframe for product line & Quantity\n",
    "products = sm[['Product line','Quantity']].groupby(['Product line'], as_index=False).sum()\n",
    "products"
   ]
  },
  {
   "cell_type": "code",
   "execution_count": 82,
   "id": "8375acc8",
   "metadata": {},
   "outputs": [
    {
     "data": {
      "image/png": "[encoded data removed]",
      "text/plain": [
       "<Figure size 1080x504 with 1 Axes>"
      ]
     },
     "metadata": {
      "needs_background": "light"
     },
     "output_type": "display_data"
    }
   ],
   "source": [
    "# Plot for product line vs Quantity \n",
    "plt.figure(figsize=(15,7))\n",
    "plt.xticks(rotation=30)\n",
    "plt.bar(products['Product line'],products['Quantity'],\n",
    "        color=['#808080','#800000','#808000','#008000','#000080','#800080'],width=0.6)\n",
    "\n",
    "plt.xlabel(\"Product Line\",size=20,color='Blue')\n",
    "plt.ylabel('Quantity',size=20,color='red')\n",
    "plt.title(\"Product line vs Quantity of products\",size=20,color='green')\n",
    "plt.grid(axis='y')"
   ]
  },
  {
   "cell_type": "code",
   "execution_count": null,
   "id": "c04bc1d8",
   "metadata": {},
   "outputs": [],
   "source": [
    "''' -We need to Focus on 'Health and beauty' products which are less brought by customers\n",
    "   -'Food and beverages' and 'Electronics accessoreis' have higher sale we should have to focus on maintaining the stock.  .\n",
    "   From above observation it concludes that:\n",
    "  -Total 5510 products are brought by customers in which:\n",
    "  -Electronic accessories are higher brought by customers which are 971 quantity.\n",
    "  -Health and beauty products are less brought by customers which are 854 quantity.'''"
   ]
  },
  {
   "cell_type": "markdown",
   "id": "d7d7fbc0",
   "metadata": {},
   "source": [
    "# 11.Which city should be chosen for expansion and what products should be focussed on?"
   ]
  },
  {
   "cell_type": "markdown",
   "id": "fd49b831",
   "metadata": {},
   "source": [
    "# 11.1 Which city should be chosen for expansion."
   ]
  },
  {
   "cell_type": "code",
   "execution_count": 83,
   "id": "511ae9ed",
   "metadata": {},
   "outputs": [
    {
     "data": {
      "text/html": [
       "<div>\n",
       "<style scoped>\n",
       "    .dataframe tbody tr th:only-of-type {\n",
       "        vertical-align: middle;\n",
       "    }\n",
       "\n",
       "    .dataframe tbody tr th {\n",
       "        vertical-align: top;\n",
       "    }\n",
       "\n",
       "    .dataframe thead th {\n",
       "        text-align: right;\n",
       "    }\n",
       "</style>\n",
       "<table border=\"1\" class=\"dataframe\">\n",
       "  <thead>\n",
       "    <tr style=\"text-align: right;\">\n",
       "      <th></th>\n",
       "      <th>City</th>\n",
       "      <th>gross income</th>\n",
       "    </tr>\n",
       "  </thead>\n",
       "  <tbody>\n",
       "    <tr>\n",
       "      <th>0</th>\n",
       "      <td>Mandalay</td>\n",
       "      <td>5057.0320</td>\n",
       "    </tr>\n",
       "    <tr>\n",
       "      <th>1</th>\n",
       "      <td>Naypyitaw</td>\n",
       "      <td>5265.1765</td>\n",
       "    </tr>\n",
       "    <tr>\n",
       "      <th>2</th>\n",
       "      <td>Yangon</td>\n",
       "      <td>5057.1605</td>\n",
       "    </tr>\n",
       "  </tbody>\n",
       "</table>\n",
       "</div>"
      ],
      "text/plain": [
       "        City  gross income\n",
       "0   Mandalay     5057.0320\n",
       "1  Naypyitaw     5265.1765\n",
       "2     Yangon     5057.1605"
      ]
     },
     "execution_count": 83,
     "metadata": {},
     "output_type": "execute_result"
    }
   ],
   "source": [
    "# To calculate city wise gross income. \n",
    "city_income= sm[['City', 'gross income']].groupby(['City'],as_index=False).agg('sum')\n",
    "city_income"
   ]
  },
  {
   "cell_type": "code",
   "execution_count": 85,
   "id": "b90151b5",
   "metadata": {},
   "outputs": [
    {
     "data": {
      "image/png": "[encoded data removed]",
      "text/plain": [
       "<Figure size 864x504 with 1 Axes>"
      ]
     },
     "metadata": {
      "needs_background": "light"
     },
     "output_type": "display_data"
    }
   ],
   "source": [
    "# bar plot for city wise gross income. \n",
    "fig = plt.figure(figsize=(12,7))\n",
    "plt.bar(city_income['City'],city_income['gross income'],color = ['#DFFF00','#40E0D0','#FF7F50'],width=0.5)\n",
    "\n",
    "plt.xlabel(\"City \",size=20,color='Blue')\n",
    "plt.ylabel('Gross Income',size=20,color='red')\n",
    "plt.title(\"City wise gross income\",size=20,color='green')\n",
    "plt.grid(axis ='y')"
   ]
  },
  {
   "cell_type": "code",
   "execution_count": null,
   "id": "79ee30a9",
   "metadata": {},
   "outputs": [],
   "source": [
    "'''Naypyitaw city have higher sell and profit.\n",
    "   For expansion naypyitaw city is perfect.'''"
   ]
  },
  {
   "cell_type": "markdown",
   "id": "2fbdd014",
   "metadata": {},
   "source": [
    "# 11.2 what products should be focussed on?"
   ]
  },
  {
   "cell_type": "code",
   "execution_count": 86,
   "id": "a495f12b",
   "metadata": {},
   "outputs": [
    {
     "data": {
      "text/html": [
       "<div>\n",
       "<style scoped>\n",
       "    .dataframe tbody tr th:only-of-type {\n",
       "        vertical-align: middle;\n",
       "    }\n",
       "\n",
       "    .dataframe tbody tr th {\n",
       "        vertical-align: top;\n",
       "    }\n",
       "\n",
       "    .dataframe thead th {\n",
       "        text-align: right;\n",
       "    }\n",
       "</style>\n",
       "<table border=\"1\" class=\"dataframe\">\n",
       "  <thead>\n",
       "    <tr style=\"text-align: right;\">\n",
       "      <th></th>\n",
       "      <th>City</th>\n",
       "      <th>Product line</th>\n",
       "      <th>Quantity</th>\n",
       "    </tr>\n",
       "  </thead>\n",
       "  <tbody>\n",
       "    <tr>\n",
       "      <th>0</th>\n",
       "      <td>Mandalay</td>\n",
       "      <td>Electronic accessories</td>\n",
       "      <td>316</td>\n",
       "    </tr>\n",
       "  </tbody>\n",
       "</table>\n",
       "</div>"
      ],
      "text/plain": [
       "       City            Product line  Quantity\n",
       "0  Mandalay  Electronic accessories       316"
      ]
     },
     "execution_count": 86,
     "metadata": {},
     "output_type": "execute_result"
    }
   ],
   "source": [
    "# Products and Quantity  in different citys \n",
    "city_product= sm[['City','Product line' ,'Quantity']].groupby(['City','Product line'],as_index=False).agg('sum')\n",
    "city_product.head(1)"
   ]
  },
  {
   "cell_type": "code",
   "execution_count": 87,
   "id": "44eb4285",
   "metadata": {},
   "outputs": [
    {
     "data": {
      "text/html": [
       "<div>\n",
       "<style scoped>\n",
       "    .dataframe tbody tr th:only-of-type {\n",
       "        vertical-align: middle;\n",
       "    }\n",
       "\n",
       "    .dataframe tbody tr th {\n",
       "        vertical-align: top;\n",
       "    }\n",
       "\n",
       "    .dataframe thead th {\n",
       "        text-align: right;\n",
       "    }\n",
       "</style>\n",
       "<table border=\"1\" class=\"dataframe\">\n",
       "  <thead>\n",
       "    <tr style=\"text-align: right;\">\n",
       "      <th></th>\n",
       "      <th>Product line</th>\n",
       "      <th>Quantity</th>\n",
       "    </tr>\n",
       "  </thead>\n",
       "  <tbody>\n",
       "    <tr>\n",
       "      <th>6</th>\n",
       "      <td>Electronic accessories</td>\n",
       "      <td>333</td>\n",
       "    </tr>\n",
       "    <tr>\n",
       "      <th>7</th>\n",
       "      <td>Fashion accessories</td>\n",
       "      <td>342</td>\n",
       "    </tr>\n",
       "    <tr>\n",
       "      <th>8</th>\n",
       "      <td>Food and beverages</td>\n",
       "      <td>369</td>\n",
       "    </tr>\n",
       "    <tr>\n",
       "      <th>9</th>\n",
       "      <td>Health and beauty</td>\n",
       "      <td>277</td>\n",
       "    </tr>\n",
       "    <tr>\n",
       "      <th>10</th>\n",
       "      <td>Home and lifestyle</td>\n",
       "      <td>245</td>\n",
       "    </tr>\n",
       "    <tr>\n",
       "      <th>11</th>\n",
       "      <td>Sports and travel</td>\n",
       "      <td>265</td>\n",
       "    </tr>\n",
       "  </tbody>\n",
       "</table>\n",
       "</div>"
      ],
      "text/plain": [
       "              Product line  Quantity\n",
       "6   Electronic accessories       333\n",
       "7      Fashion accessories       342\n",
       "8       Food and beverages       369\n",
       "9        Health and beauty       277\n",
       "10      Home and lifestyle       245\n",
       "11       Sports and travel       265"
      ]
     },
     "execution_count": 87,
     "metadata": {},
     "output_type": "execute_result"
    }
   ],
   "source": [
    "# Calling the naypyitaw city product line \n",
    "naypyitaw_city=city_product.iloc[6:12,1:]\n",
    "naypyitaw_city"
   ]
  },
  {
   "cell_type": "code",
   "execution_count": 89,
   "id": "a9ca90a2",
   "metadata": {},
   "outputs": [
    {
     "data": {
      "image/png": "[encoded data removed]",
      "text/plain": [
       "<Figure size 864x504 with 1 Axes>"
      ]
     },
     "metadata": {
      "needs_background": "light"
     },
     "output_type": "display_data"
    }
   ],
   "source": [
    "# bar plot for city wise gross income. \n",
    "fig = plt.figure(figsize=(12,7))\n",
    "\n",
    "plt.bar(naypyitaw_city['Product line'],naypyitaw_city['Quantity'],\n",
    "        color = ['#DFFF00','#40E0D0','#FF7F50','#808000','#800000','#808080'],width=0.5)\n",
    "\n",
    "plt.xlabel(\"Product line\",size=20,color='Blue')\n",
    "plt.ylabel('Quantity',size=20,color='red')\n",
    "plt.title(\"Product Sold in naypyitaw_city  \",size=20,color='green')\n",
    "plt.grid(axis ='y')"
   ]
  },
  {
   "cell_type": "code",
   "execution_count": null,
   "id": "b39b6ca4",
   "metadata": {},
   "outputs": [],
   "source": [
    "'''For Expansion in naypyitaw city We have to focus on 'Food and Beverages' Products because it having higher demand in city.\n",
    "   we also have to focus on 'Home and lifestyle' because it having less sell in city.'''"
   ]
  },
  {
   "cell_type": "markdown",
   "id": "5448f259",
   "metadata": {},
   "source": [
    "# Part 2 Conclusion"
   ]
  },
  {
   "cell_type": "code",
   "execution_count": null,
   "id": "ae285a37",
   "metadata": {},
   "outputs": [],
   "source": [
    "'''1.Is your supermarket more popular with males or females?\n",
    "   ans--> popularity between males and feamles are near about equal.but we observed\n",
    "          the value count of males and feamles as per that count our shop light popular for Feamles. \n",
    "            \n",
    "   2.What does the customer rating look like and can you also comment on its skewness?\n",
    "   ans--> mean and median value of rating mean=6.97270 & median=7.00000 \n",
    "          hence mean < median which known as left skewed.\n",
    "          \n",
    "   3.What can you say about the aggregate sales across the branches?\n",
    "   ans-->Hence from above Plot it concludes that branch 'C' having higher sale as compare to barnch 'A'&'B'\n",
    "         and for branch 'A'&'B have aproximate equal sale.\n",
    "         \n",
    "   4.Which is the most popular payment method used by customers?\n",
    "   ans--> \"Ewallet\" is most popular payment method in our shop.'''\n",
    "  "
   ]
  },
  {
   "cell_type": "markdown",
   "id": "f8dc8ed9",
   "metadata": {},
   "source": [
    "# Part 3 Conclusion :"
   ]
  },
  {
   "cell_type": "code",
   "execution_count": null,
   "id": "4bc7d097",
   "metadata": {},
   "outputs": [],
   "source": [
    "'''Overall Conclusion :\n",
    "  -1.Does gross income affect customer ratings?\n",
    "   ans--> There is no relationship between gross income of a customer and his rating.\n",
    "  \n",
    "  -2.Which is the most profitable branch? \n",
    "   ans--> - Naypyitaw/Branch C is the most profitable branch.\n",
    "   \n",
    "  -3.How is the relationship between Gender and Gross income? -\n",
    "   ans--> There is no relationship between gross income of a customer and his rating.\n",
    "   \n",
    "  -4.Can you see any time trend in gross income?\n",
    "   ans--> No Special time trend is observed in gross income it having certain average level. \n",
    "          but sometimes gross income get increases and decreases\n",
    "            \n",
    "  -5.Which product line helps you generate the most income?\n",
    "   ans--> Food and Beverages product line help us to generate most of our income\n",
    "   \n",
    "  -6.What is the spending pattern of both males and females, meaning in which category do they spend more?\n",
    "   ans--> -Male spend more in Food and beverages products\n",
    "          -Feamle spend more in Health and beauty products\n",
    "            \n",
    "  -7.How many products are bought by customers?\n",
    "   ans--> Usually most of the times customer buy 10 products.\n",
    "   \n",
    "  -8.Which day of the week has maximum sales?\n",
    "   ans-->  Saturday have maxximun sale in week.\n",
    "   \n",
    "  -9.Which hour of the day is busiest?\n",
    "   ans--> 19th hour of the day is busiest hour in our shop.\n",
    "   \n",
    "  -10.Which product line should your supermarket focus on? \n",
    "   ans--> We need to Focus on Health and beauty products which are less brought by customers\n",
    "          Food and beverages and Electronics accessoreis have higher sale we should have to focus on maintaining the stock.\n",
    "            \n",
    "  -11.Which city should be chosen for expansion and what products should be focussed on?\n",
    "   ans-->  Naypyitaw city have higher sell and profit,For expansion naypyitaw city is perfect.\n",
    "           For Expansion in naypyitaw city We have to focus on Food and Beverages Products because it having\n",
    "           higher demand in city.\n",
    "           we also have to focus on Home and lifestyle because it having less sell in city'''"
   ]
  },
  {
   "cell_type": "code",
   "execution_count": null,
   "id": "103044c9",
   "metadata": {},
   "outputs": [],
   "source": []
  }
 ],
 "metadata": {
  "kernelspec": {
   "display_name": "Python 3",
   "language": "python",
   "name": "python3"
  },
  "language_info": {
   "codemirror_mode": {
    "name": "ipython",
    "version": 3
   },
   "file_extension": ".py",
   "mimetype": "text/x-python",
   "name": "python",
   "nbconvert_exporter": "python",
   "pygments_lexer": "ipython3",
   "version": "3.8.8"
  }
 },
 "nbformat": 4,
 "nbformat_minor": 5
}
